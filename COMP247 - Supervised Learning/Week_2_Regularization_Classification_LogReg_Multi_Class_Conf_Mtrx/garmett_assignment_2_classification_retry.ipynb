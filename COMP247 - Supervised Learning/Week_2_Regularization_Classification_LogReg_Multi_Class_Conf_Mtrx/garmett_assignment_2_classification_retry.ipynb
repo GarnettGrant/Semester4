{
 "cells": [
  {
   "cell_type": "code",
   "execution_count": 17,
   "metadata": {},
   "outputs": [],
   "source": [
    "## Pre-requisite to carrying out the assignment:\n",
    "## 1. From Sklearn load the MINST dataset, using fetch_openml.\n",
    "from sklearn.datasets import fetch_openml\n",
    "import sklearn as sl\n",
    "import numpy as np\n",
    "import matplotlib.pyplot as plt\n",
    "import matplotlib as mpl\n",
    "import pandas as pd\n",
    "np.random.seed(42)"
   ]
  },
  {
   "cell_type": "code",
   "execution_count": 49,
   "metadata": {},
   "outputs": [],
   "source": [
    "## Load & check the data:\n",
    "## 1. Load the MINST data into a pandas dataframe named MINST_firstname where first name is you name.\n",
    "MNIST = fetch_openml(\"mnist_784\", version=1)\n",
    "MNIST_garnett = pd.DataFrame(data=MNIST.data, columns=MNIST.feature_names)\n",
    "MNIST_garnett['target'] = MNIST.target.astype(int)"
   ]
  },
  {
   "cell_type": "code",
   "execution_count": 51,
   "metadata": {},
   "outputs": [
    {
     "data": {
      "text/plain": [
       "dict_keys(['data', 'target', 'frame', 'categories', 'feature_names', 'target_names', 'DESCR', 'details', 'url'])"
      ]
     },
     "execution_count": 51,
     "metadata": {},
     "output_type": "execute_result"
    }
   ],
   "source": [
    "## 2. List the keys\n",
    "MNIST.keys()\n"
   ]
  },
  {
   "cell_type": "code",
   "execution_count": 56,
   "metadata": {},
   "outputs": [],
   "source": [
    "## 3. Assign the data to a ndarray named X_firstname where firstname is your first name.\n",
    "X_garnett = MNIST.data.values\n"
   ]
  },
  {
   "cell_type": "code",
   "execution_count": 57,
   "metadata": {},
   "outputs": [],
   "source": [
    "## 4. Assign the target to a variable named y_firstname where firstname is your first name.\n",
    "y_garnett = MNIST.target.values.astype(int)"
   ]
  },
  {
   "cell_type": "code",
   "execution_count": 58,
   "metadata": {},
   "outputs": [
    {
     "name": "stdout",
     "output_type": "stream",
     "text": [
      "<class 'numpy.ndarray'>\n",
      "<class 'numpy.ndarray'>\n"
     ]
    }
   ],
   "source": [
    "##5. Print the types of X_firstname and y_firstname.\n",
    "print(type(X_garnett))\n",
    "print(type(y_garnett))"
   ]
  },
  {
   "cell_type": "code",
   "execution_count": 59,
   "metadata": {},
   "outputs": [
    {
     "name": "stdout",
     "output_type": "stream",
     "text": [
      "X_garnett Shape: (70000, 784)\n",
      "y_garnett Shape: (70000,)\n"
     ]
    }
   ],
   "source": [
    "## 6. Print the shape of X_firstname and y_firstname.\n",
    "print(f\"X_garnett Shape: {X_garnett.shape}\")\n",
    "print(f\"y_garnett Shape: {y_garnett.shape}\")"
   ]
  },
  {
   "cell_type": "code",
   "execution_count": 60,
   "metadata": {},
   "outputs": [],
   "source": [
    "##7. Create three variables named as follows:\n",
    "##      a. If your first name starts by “A” through “L” name the variable some_digit1, some_digit2, some_digit3. \n",
    "##         Store in these variables the values from X_firstname indexed 7,5,0 in order.\n",
    "some_digit1, some_digit2, some_digit3 = X_garnett[7], X_garnett[5], X_garnett[0]"
   ]
  },
  {
   "cell_type": "code",
   "execution_count": 65,
   "metadata": {},
   "outputs": [],
   "source": [
    "## 8. Use imshow method to plot the values of the three variables you defined in the above point. Note the values in your Analysis report (written response).\n",
    "\n",
    "##Data must first be reshaped and then plotted\n",
    "some_digit1_image, some_digit2_image, some_digit3_image = some_digit1.reshape(28,28), some_digit2.reshape(28,28), some_digit3.reshape(28,28)\n",
    "\n"
   ]
  },
  {
   "cell_type": "code",
   "execution_count": null,
   "metadata": {},
   "outputs": [],
   "source": [
    "##Image 1\n",
    "plt.imshow(some_digit1_image, cmap=mpl.cm.binary)"
   ]
  },
  {
   "cell_type": "code",
   "execution_count": null,
   "metadata": {},
   "outputs": [],
   "source": [
    "##Image 2\n",
    "plt.imshow(some_digit2_image, cmap=mpl.cm.binary)\n"
   ]
  },
  {
   "cell_type": "code",
   "execution_count": null,
   "metadata": {},
   "outputs": [],
   "source": [
    "## Image 3\n",
    "plt.imshow(some_digit3_image, cmap=mpl.cm.binary)"
   ]
  }
 ],
 "metadata": {
  "kernelspec": {
   "display_name": "base",
   "language": "python",
   "name": "python3"
  },
  "language_info": {
   "codemirror_mode": {
    "name": "ipython",
    "version": 3
   },
   "file_extension": ".py",
   "mimetype": "text/x-python",
   "name": "python",
   "nbconvert_exporter": "python",
   "pygments_lexer": "ipython3",
   "version": "3.8.8"
  }
 },
 "nbformat": 4,
 "nbformat_minor": 2
}
