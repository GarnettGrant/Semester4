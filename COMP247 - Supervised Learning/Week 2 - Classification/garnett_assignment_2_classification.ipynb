{
 "cells": [
  {
   "cell_type": "markdown",
   "metadata": {},
   "source": [
    "<h3>Lab Assignment 2 - Classification</h3>\n",
    "<h4>Garnett Grant</h4>\n",
    "<h4>301188923</h4>"
   ]
  },
  {
   "cell_type": "code",
   "execution_count": 25,
   "metadata": {},
   "outputs": [],
   "source": [
    "## Pre-requisite to carrying out the assignment:\n",
    "## 1. From Sklearn load the MINST dataset, using fetch_openml.\n",
    "from sklearn.datasets import fetch_openml\n",
    "import sklearn as sl\n",
    "import numpy as np\n",
    "import matplotlib.pyplot as plt\n",
    "import matplotlib as mpl\n",
    "import pandas as pd"
   ]
  },
  {
   "cell_type": "markdown",
   "metadata": {},
   "source": [
    "## Load & check the data:"
   ]
  },
  {
   "cell_type": "code",
   "execution_count": null,
   "metadata": {},
   "outputs": [],
   "source": [
    "\n",
    "## 1. Load the MINST data into a pandas dataframe named MINST_firstname where first name is you name.\n",
    "mnist_garnett = fetch_openml('mnist_784', version=1)"
   ]
  },
  {
   "cell_type": "code",
   "execution_count": 26,
   "metadata": {},
   "outputs": [
    {
     "data": {
      "text/plain": [
       "dict_keys(['data', 'target', 'frame', 'categories', 'feature_names', 'target_names', 'DESCR', 'details', 'url'])"
      ]
     },
     "execution_count": 26,
     "metadata": {},
     "output_type": "execute_result"
    }
   ],
   "source": [
    "## 2. List the keys\n",
    "mnist_garnett.keys()"
   ]
  },
  {
   "cell_type": "code",
   "execution_count": 27,
   "metadata": {},
   "outputs": [
    {
     "data": {
      "text/plain": [
       "array([[0., 0., 0., ..., 0., 0., 0.],\n",
       "       [0., 0., 0., ..., 0., 0., 0.],\n",
       "       [0., 0., 0., ..., 0., 0., 0.],\n",
       "       ...,\n",
       "       [0., 0., 0., ..., 0., 0., 0.],\n",
       "       [0., 0., 0., ..., 0., 0., 0.],\n",
       "       [0., 0., 0., ..., 0., 0., 0.]])"
      ]
     },
     "execution_count": 27,
     "metadata": {},
     "output_type": "execute_result"
    }
   ],
   "source": [
    "## 3. Assign the data to a ndarray named X_firstname where firstname is your first name.\n",
    "X_garnett = mnist_garnett[\"data\"].values\n",
    "X_garnett"
   ]
  },
  {
   "cell_type": "code",
   "execution_count": 28,
   "metadata": {},
   "outputs": [
    {
     "data": {
      "text/plain": [
       "array([5, 0, 4, ..., 4, 5, 6])"
      ]
     },
     "execution_count": 28,
     "metadata": {},
     "output_type": "execute_result"
    }
   ],
   "source": [
    "## 4. Assign the target to a variable named y_firstname where firstname is your first name.\n",
    "y_garnett = mnist_garnett[\"target\"].values.astype(int)\n",
    "y_garnett"
   ]
  },
  {
   "cell_type": "code",
   "execution_count": 29,
   "metadata": {},
   "outputs": [
    {
     "name": "stdout",
     "output_type": "stream",
     "text": [
      "<class 'numpy.ndarray'>\n",
      "<class 'numpy.ndarray'>\n"
     ]
    }
   ],
   "source": [
    "##5. Print the types of X_firstname and y_firstname.\n",
    "print(type(X_garnett))\n",
    "print(type(y_garnett))"
   ]
  },
  {
   "cell_type": "code",
   "execution_count": 30,
   "metadata": {},
   "outputs": [
    {
     "name": "stdout",
     "output_type": "stream",
     "text": [
      "X_garnett Shape: (70000, 784)\n",
      "y_garnett Shape: (70000,)\n"
     ]
    }
   ],
   "source": [
    "## 6. Print the shape of X_firstname and y_firstname.\n",
    "print(f\"X_garnett Shape: {X_garnett.shape}\")\n",
    "print(f\"y_garnett Shape: {y_garnett.shape}\")\n"
   ]
  },
  {
   "cell_type": "code",
   "execution_count": 31,
   "metadata": {},
   "outputs": [],
   "source": [
    "##7. Create three variables named as follows:\n",
    "##      a. If your first name starts by “A” through “L” name the variable some_digit1, some_digit2, some_digit3. \n",
    "##         Store in these variables the values from X_firstname indexed 7,5,0 in order.\n",
    "some_digit1, some_digit2, some_digit3 = X_garnett[7], X_garnett[5], X_garnett[0]\n",
    "\n"
   ]
  },
  {
   "cell_type": "code",
   "execution_count": 32,
   "metadata": {},
   "outputs": [],
   "source": [
    "## 8. Use imshow method to plot the values of the three variables you defined in the above point. Note the values in your Analysis report (written response).\n",
    "\n",
    "##Data must first be reshaped and then plotted\n",
    "some_digit1_image, some_digit2_image, some_digit3_image = some_digit1.reshape(28,28), some_digit2.reshape(28,28), some_digit3.reshape(28,28)"
   ]
  },
  {
   "cell_type": "code",
   "execution_count": 33,
   "metadata": {},
   "outputs": [
    {
     "data": {
      "text/plain": [
       "<matplotlib.image.AxesImage at 0x22e377f1970>"
      ]
     },
     "execution_count": 33,
     "metadata": {},
     "output_type": "execute_result"
    },
    {
     "data": {
      "image/png": "[encoded data removed]",
      "text/plain": [
       "<Figure size 432x288 with 1 Axes>"
      ]
     },
     "metadata": {
      "needs_background": "light"
     },
     "output_type": "display_data"
    }
   ],
   "source": [
    "## Image 1\n",
    "plt.imshow(some_digit1_image, cmap=mpl.cm.binary)"
   ]
  },
  {
   "cell_type": "code",
   "execution_count": 34,
   "metadata": {},
   "outputs": [
    {
     "data": {
      "text/plain": [
       "<matplotlib.image.AxesImage at 0x22e3783a100>"
      ]
     },
     "execution_count": 34,
     "metadata": {},
     "output_type": "execute_result"
    },
    {
     "data": {
      "image/png": "[encoded data removed]",
      "text/plain": [
       "<Figure size 432x288 with 1 Axes>"
      ]
     },
     "metadata": {
      "needs_background": "light"
     },
     "output_type": "display_data"
    }
   ],
   "source": [
    "## Image 2\n",
    "plt.imshow(some_digit2_image, cmap=mpl.cm.binary)"
   ]
  },
  {
   "cell_type": "code",
   "execution_count": 35,
   "metadata": {},
   "outputs": [
    {
     "data": {
      "text/plain": [
       "<matplotlib.image.AxesImage at 0x22e3788a730>"
      ]
     },
     "execution_count": 35,
     "metadata": {},
     "output_type": "execute_result"
    },
    {
     "data": {
      "image/png": "[encoded data removed]",
      "text/plain": [
       "<Figure size 432x288 with 1 Axes>"
      ]
     },
     "metadata": {
      "needs_background": "light"
     },
     "output_type": "display_data"
    }
   ],
   "source": [
    "## Image 3\n",
    "plt.imshow(some_digit3_image, cmap=mpl.cm.binary)"
   ]
  },
  {
   "cell_type": "markdown",
   "metadata": {},
   "source": [
    "## Pre-process the data:\n"
   ]
  },
  {
   "cell_type": "code",
   "execution_count": 36,
   "metadata": {},
   "outputs": [],
   "source": [
    "## 9. Change the type of y to uint8\n",
    "y_garnett.dtype = \"uint8\""
   ]
  },
  {
   "cell_type": "code",
   "execution_count": 37,
   "metadata": {},
   "outputs": [],
   "source": [
    "## 10.\tThe current target values range from 0 to 9 i.e. 10 classes. Transform the target variable to 3 classes as follows:\n",
    "##      a.\tAny digit between 0 and 3 inclusive should be assigned a target value of 0\n",
    "##      b.\tAny digit between 4 and 6 inclusive should be assigned a target value of 1\n",
    "##      c.\tAny digit between 7 and 9 inclusive should be assigned a target value of 9 \n",
    "##      (Hint: you can use numpy.where to carry out the transformation on the target.)\n",
    "# y_garnett\n",
    "y_garnett_transformed = np.where((y_garnett >= 0) & (y_garnett <= 3), 0, np.where((y_garnett >= 4) & (y_garnett <= 6), 1, 9))\n",
    "\n",
    "# Verifying change of target values...\n",
    "# pd.DataFrame(y_garnett).head(20)\n",
    "# pd.DataFrame(y_garnett_transformed).head(20)\n"
   ]
  },
  {
   "cell_type": "code",
   "execution_count": 38,
   "metadata": {},
   "outputs": [
    {
     "name": "stdout",
     "output_type": "stream",
     "text": [
      "y_garnett_transformed 0 Count: 238911\n",
      "y_garnett_transformed 1 Count: 20013\n",
      "y_garnett_transformed 9 count: 21076\n"
     ]
    }
   ],
   "source": [
    "## 11.\tPrint the frequencies of each of the three target classes and note it in your written report in addition provide a screenshot showing a bar chart.\n",
    "\n",
    "ygt_0_count = np.sum(y_garnett_transformed == 0)\n",
    "ygt_1_count = np.sum(y_garnett_transformed == 1)\n",
    "ygt_9_count = np.sum(y_garnett_transformed == 9)\n",
    "\n",
    "print(f\"y_garnett_transformed 0 Count: {ygt_0_count}\\ny_garnett_transformed 1 Count: {ygt_1_count}\\ny_garnett_transformed 9 count: {ygt_9_count}\")\n",
    "\n"
   ]
  },
  {
   "cell_type": "code",
   "execution_count": 39,
   "metadata": {},
   "outputs": [
    {
     "data": {
      "image/png": "[encoded data removed]",
      "text/plain": [
       "<Figure size 432x288 with 1 Axes>"
      ]
     },
     "metadata": {
      "needs_background": "light"
     },
     "output_type": "display_data"
    }
   ],
   "source": [
    "\n",
    "frequency = [10000,50000,100000,150000,200000,250000]\n",
    "occurrences = [ygt_0_count,ygt_1_count,ygt_9_count]\n",
    "classes = [0,1,9]\n",
    "\n",
    "# plt.bar(occurrences, frequency, color='blue')\n",
    "\n",
    "plt.bar(x=classes,height=occurrences)\n",
    "\n",
    "plt.xlabel('Class')\n",
    "plt.ylabel('Occurance')\n",
    "plt.title('Frequency of Occurance Per Class')\n",
    "# tick_positions = [0,1,2,3,4,5,6,7,8,9,10]\n",
    "# plt.xticks([0,1,2,3,4,5,6,7,8,9,10])\n",
    "# plt.yticks([20000,60000,100000,140000,180000,220000,260000])\n",
    "\n",
    "plt.show()"
   ]
  },
  {
   "cell_type": "code",
   "execution_count": 41,
   "metadata": {},
   "outputs": [
    {
     "data": {
      "text/plain": [
       "(39200000, 15680000, 50000, 20000)"
      ]
     },
     "execution_count": 41,
     "metadata": {},
     "output_type": "execute_result"
    }
   ],
   "source": [
    "## 12.\tSplit your data into train, test. Assign the first 50,000 records for training and the last 20,000\n",
    "## records for testing. (Hint you don’t need sklearn train test as the data is already randomized).\n",
    "X_garnett_train, X_garnett_test, y_garnett_train, y_garnett_test = X_garnett[:50000], X_garnett[-20000:], y_garnett_transformed[0:50000],y_garnett_transformed[-20000:]\n",
    "\n",
    "X_garnett_train.size, X_garnett_test.size, y_garnett_train.size, y_garnett_test.size"
   ]
  },
  {
   "cell_type": "markdown",
   "metadata": {},
   "source": [
    "## Build Classification Models:"
   ]
  },
  {
   "cell_type": "markdown",
   "metadata": {},
   "source": [
    "<blockquote><h3>Naive Bayes</h3></blockquote>"
   ]
  },
  {
   "cell_type": "code",
   "execution_count": 42,
   "metadata": {},
   "outputs": [
    {
     "data": {
      "text/plain": [
       "BernoulliNB()"
      ]
     },
     "execution_count": 42,
     "metadata": {},
     "output_type": "execute_result"
    }
   ],
   "source": [
    "##13. Train a Naive Bayes classifier using the training data. Name the classifier NB_clf_firstname.\n",
    "from sklearn.naive_bayes import GaussianNB, CategoricalNB,MultinomialNB, ComplementNB, BernoulliNB\n",
    "NB_clf_garnett = BernoulliNB()\n",
    "\n",
    "NB_clf_garnett.fit(X_garnett_train,y_garnett_train)"
   ]
  },
  {
   "cell_type": "code",
   "execution_count": 43,
   "metadata": {},
   "outputs": [
    {
     "name": "stdout",
     "output_type": "stream",
     "text": [
      "3-fold Cross Validations: [0.60208796 0.52108958 0.56300252]\n",
      "Average score: 56.2060018850025\n"
     ]
    }
   ],
   "source": [
    "## 14. Use 3-fold cross validation to validate the training process, and note the results in your written response.\n",
    "from sklearn.model_selection import cross_val_score\n",
    "scores = cross_val_score(NB_clf_garnett, X_garnett_train, y_garnett_train, cv=3, scoring=\"accuracy\")\n",
    "print (f'3-fold Cross Validations: {scores}')\n",
    "print (f'Average score: {scores.mean() * 100}')"
   ]
  },
  {
   "cell_type": "code",
   "execution_count": 44,
   "metadata": {},
   "outputs": [
    {
     "data": {
      "text/plain": [
       "0.53875"
      ]
     },
     "execution_count": 44,
     "metadata": {},
     "output_type": "execute_result"
    }
   ],
   "source": [
    "## 15.Use the model to score the accuracy against the test data, note the result in your written response.\n",
    "from sklearn.metrics import accuracy_score\n",
    "y_garnett_pred = NB_clf_garnett.predict(X_garnett_test)\n",
    "accuracy = accuracy_score(y_garnett_test, y_garnett_pred)\n",
    "accuracy\n"
   ]
  },
  {
   "cell_type": "code",
   "execution_count": 45,
   "metadata": {},
   "outputs": [
    {
     "data": {
      "text/plain": [
       "array([[10038,  4089,  2969],\n",
       "       [  722,   393,   299],\n",
       "       [  715,   431,   344]], dtype=int64)"
      ]
     },
     "execution_count": 45,
     "metadata": {},
     "output_type": "execute_result"
    }
   ],
   "source": [
    "## 16. Generate the accuracy matrix.\n",
    "from sklearn.metrics import confusion_matrix, ConfusionMatrixDisplay\n",
    "\n",
    "garnett_matrix = confusion_matrix(y_garnett_test, y_garnett_pred)\n",
    "garnett_matrix\n",
    "# disp = ConfusionMatrixDisplay(garnett_matrix)\n",
    "\n",
    "# disp.plot()"
   ]
  },
  {
   "cell_type": "code",
   "execution_count": 46,
   "metadata": {},
   "outputs": [
    {
     "data": {
      "text/plain": [
       "array([0, 0, 0])"
      ]
     },
     "execution_count": 46,
     "metadata": {},
     "output_type": "execute_result"
    }
   ],
   "source": [
    "## 17. Use the classifier to predict the three variables you defined in point 7 above. Note the results in your written response and compare against the actual results.\n",
    "test_rray = [some_digit1, some_digit2, some_digit3]\n",
    "NB_clf_garnett.predict(test_rray)"
   ]
  },
  {
   "cell_type": "markdown",
   "metadata": {},
   "source": [
    "<blockquote><h3>Logisitic Regression</h3></blockquote>"
   ]
  },
  {
   "cell_type": "code",
   "execution_count": 47,
   "metadata": {},
   "outputs": [],
   "source": [
    "#18. Train a Logistic regression classifier using the same training data. Name the classifier LR_clf_firstname. \n",
    " \n",
    "    #(Note this is a multi-class problem make sure to check all the parameters and set multi_class='multinomial').\n",
    "    \n",
    "    #Try training the classifier using two solvers first “lbfgs” then “Saga”. Set max_iter to 1200 and tolerance to 0.1 in both cases.\n",
    "    \n",
    "    #Make sure you note the results in both cases in your written response, and note the main differences in your #written response. Carryout a quick research on the difference between the “lbfgs” and “Saga” solvers and see #how this applies to the results, note that size and dimensions of the dataset. Don’t worry if one doesn’t converge your research should explain why. Note the results of your research in your analysis report.\n",
    "\n",
    "from sklearn.linear_model import LogisticRegression"
   ]
  },
  {
   "cell_type": "code",
   "execution_count": 48,
   "metadata": {},
   "outputs": [
    {
     "name": "stderr",
     "output_type": "stream",
     "text": [
      "c:\\Users\\net_g\\anaconda3\\lib\\site-packages\\sklearn\\linear_model\\_logistic.py:763: ConvergenceWarning: lbfgs failed to converge (status=1):\n",
      "STOP: TOTAL NO. of ITERATIONS REACHED LIMIT.\n",
      "\n",
      "Increase the number of iterations (max_iter) or scale the data as shown in:\n",
      "    https://scikit-learn.org/stable/modules/preprocessing.html\n",
      "Please also refer to the documentation for alternative solver options:\n",
      "    https://scikit-learn.org/stable/modules/linear_model.html#logistic-regression\n",
      "  n_iter_i = _check_optimize_result(\n"
     ]
    },
    {
     "data": {
      "text/plain": [
       "LogisticRegression(max_iter=1200, multi_class='multinomial', tol=0.1)"
      ]
     },
     "execution_count": 48,
     "metadata": {},
     "output_type": "execute_result"
    }
   ],
   "source": [
    "##lbfgs\n",
    "## Limited-memory Broyden–Fletcher–Goldfarb–Shanno (LBFGS)\n",
    "LR_clf_garnett_lbfgs = LogisticRegression(multi_class='multinomial', solver='lbfgs', max_iter=1200, tol=0.1)\n",
    "LR_clf_garnett_lbfgs.fit(X_garnett_train,y_garnett_train)"
   ]
  },
  {
   "cell_type": "code",
   "execution_count": 49,
   "metadata": {},
   "outputs": [
    {
     "data": {
      "text/plain": [
       "LogisticRegression(max_iter=1200, multi_class='multinomial', solver='saga',\n",
       "                   tol=0.1)"
      ]
     },
     "execution_count": 49,
     "metadata": {},
     "output_type": "execute_result"
    }
   ],
   "source": [
    "##saga\n",
    "## Stochastic Average Gradient Descent (SAGA)\n",
    "LR_clf_garnett_saga = LogisticRegression(multi_class='multinomial', solver='saga', max_iter=1200, tol=0.1)\n",
    "LR_clf_garnett_saga.fit(X_garnett_train,y_garnett_train)"
   ]
  },
  {
   "cell_type": "code",
   "execution_count": null,
   "metadata": {},
   "outputs": [],
   "source": [
    "#19. Use 3-fold cross validation on the training data and note the results in your written response."
   ]
  },
  {
   "cell_type": "code",
   "execution_count": 50,
   "metadata": {},
   "outputs": [
    {
     "name": "stderr",
     "output_type": "stream",
     "text": [
      "c:\\Users\\net_g\\anaconda3\\lib\\site-packages\\sklearn\\linear_model\\_logistic.py:763: ConvergenceWarning: lbfgs failed to converge (status=1):\n",
      "STOP: TOTAL NO. of ITERATIONS REACHED LIMIT.\n",
      "\n",
      "Increase the number of iterations (max_iter) or scale the data as shown in:\n",
      "    https://scikit-learn.org/stable/modules/preprocessing.html\n",
      "Please also refer to the documentation for alternative solver options:\n",
      "    https://scikit-learn.org/stable/modules/linear_model.html#logistic-regression\n",
      "  n_iter_i = _check_optimize_result(\n",
      "c:\\Users\\net_g\\anaconda3\\lib\\site-packages\\sklearn\\linear_model\\_logistic.py:763: ConvergenceWarning: lbfgs failed to converge (status=1):\n",
      "STOP: TOTAL NO. of ITERATIONS REACHED LIMIT.\n",
      "\n",
      "Increase the number of iterations (max_iter) or scale the data as shown in:\n",
      "    https://scikit-learn.org/stable/modules/preprocessing.html\n",
      "Please also refer to the documentation for alternative solver options:\n",
      "    https://scikit-learn.org/stable/modules/linear_model.html#logistic-regression\n",
      "  n_iter_i = _check_optimize_result(\n",
      "c:\\Users\\net_g\\anaconda3\\lib\\site-packages\\sklearn\\linear_model\\_logistic.py:763: ConvergenceWarning: lbfgs failed to converge (status=1):\n",
      "STOP: TOTAL NO. of ITERATIONS REACHED LIMIT.\n",
      "\n",
      "Increase the number of iterations (max_iter) or scale the data as shown in:\n",
      "    https://scikit-learn.org/stable/modules/preprocessing.html\n",
      "Please also refer to the documentation for alternative solver options:\n",
      "    https://scikit-learn.org/stable/modules/linear_model.html#logistic-regression\n",
      "  n_iter_i = _check_optimize_result(\n"
     ]
    },
    {
     "data": {
      "text/plain": [
       "array([0.85162297, 0.85054299, 0.85089404])"
      ]
     },
     "execution_count": 50,
     "metadata": {},
     "output_type": "execute_result"
    }
   ],
   "source": [
    "## 3-Fold Cross Validation Score for Logistic Regression Classifier utilziing lbfgs solver\n",
    "scores_lr = cross_val_score(LR_clf_garnett_lbfgs, X_garnett_train, y_garnett_train, cv=3, scoring=\"accuracy\")\n",
    "scores_lr "
   ]
  },
  {
   "cell_type": "code",
   "execution_count": 51,
   "metadata": {},
   "outputs": [
    {
     "data": {
      "text/plain": [
       "array([0.85162297, 0.85054299, 0.85089404])"
      ]
     },
     "execution_count": 51,
     "metadata": {},
     "output_type": "execute_result"
    }
   ],
   "source": [
    "scores_lr"
   ]
  },
  {
   "cell_type": "code",
   "execution_count": 52,
   "metadata": {},
   "outputs": [
    {
     "data": {
      "text/plain": [
       "array([0.85336293, 0.85306294, 0.85287411])"
      ]
     },
     "execution_count": 52,
     "metadata": {},
     "output_type": "execute_result"
    }
   ],
   "source": [
    "## 3-Fold Cross Validation Score for Logistic Regression Classifier utilizing saga solver\n",
    "scores_saga = cross_val_score(LR_clf_garnett_saga, X_garnett_train, y_garnett_train, cv=3, scoring=\"accuracy\")\n",
    "scores_saga "
   ]
  },
  {
   "cell_type": "code",
   "execution_count": null,
   "metadata": {},
   "outputs": [],
   "source": [
    "#20. Use the model to score the accuracy against the test data, note the result in your written response."
   ]
  },
  {
   "cell_type": "code",
   "execution_count": 53,
   "metadata": {},
   "outputs": [
    {
     "data": {
      "text/plain": [
       "0.853"
      ]
     },
     "execution_count": 53,
     "metadata": {},
     "output_type": "execute_result"
    }
   ],
   "source": [
    "## Lbfgs accuracy\n",
    "y_garnett_pred_lbfgs = LR_clf_garnett_lbfgs.predict(X_garnett_test)\n",
    "accuracy_LR_clf_garnett_lbfgs = accuracy_score(y_garnett_test, y_garnett_pred_lbfgs)\n",
    "accuracy_LR_clf_garnett_lbfgs\n"
   ]
  },
  {
   "cell_type": "code",
   "execution_count": 54,
   "metadata": {},
   "outputs": [
    {
     "data": {
      "text/plain": [
       "0.8543"
      ]
     },
     "execution_count": 54,
     "metadata": {},
     "output_type": "execute_result"
    }
   ],
   "source": [
    "## Saga accuracy\n",
    "y_garnett_pred_saga = LR_clf_garnett_saga.predict(X_garnett_test)\n",
    "accuracy_LR_clf_garnett_saga = accuracy_score(y_garnett_test, y_garnett_pred_saga)\n",
    "accuracy_LR_clf_garnett_saga\n"
   ]
  },
  {
   "cell_type": "code",
   "execution_count": 55,
   "metadata": {},
   "outputs": [
    {
     "data": {
      "text/plain": [
       "array([[17086,     5,     5],\n",
       "       [ 1414,     0,     0],\n",
       "       [ 1490,     0,     0]], dtype=int64)"
      ]
     },
     "execution_count": 55,
     "metadata": {},
     "output_type": "execute_result"
    }
   ],
   "source": [
    "# 21. Generate the Generate the accuracy matrix precision and recall of the model and note them in your written response.\n",
    "\n",
    "##Accuracy Matrix saga\n",
    "garnett_matrix_saga = confusion_matrix(y_garnett_test, y_garnett_pred_saga)\n",
    "garnett_matrix_saga\n",
    "\n"
   ]
  },
  {
   "cell_type": "code",
   "execution_count": 56,
   "metadata": {},
   "outputs": [
    {
     "data": {
      "text/plain": [
       "0.2849091212272803"
      ]
     },
     "execution_count": 56,
     "metadata": {},
     "output_type": "execute_result"
    }
   ],
   "source": [
    "# Percision saga\n",
    "from sklearn.metrics import precision_score, recall_score\n",
    "precision_score(y_garnett_test, y_garnett_pred_saga, average='macro')"
   ]
  },
  {
   "cell_type": "code",
   "execution_count": 57,
   "metadata": {},
   "outputs": [
    {
     "data": {
      "text/plain": [
       "0.33313835595070973"
      ]
     },
     "execution_count": 57,
     "metadata": {},
     "output_type": "execute_result"
    }
   ],
   "source": [
    "#Recall saga\n",
    "recall_score(y_garnett_test, y_garnett_pred_saga, average='macro')"
   ]
  },
  {
   "cell_type": "code",
   "execution_count": 58,
   "metadata": {},
   "outputs": [
    {
     "data": {
      "text/plain": [
       "array([[17058,    22,    16],\n",
       "       [ 1412,     1,     1],\n",
       "       [ 1488,     1,     1]], dtype=int64)"
      ]
     },
     "execution_count": 58,
     "metadata": {},
     "output_type": "execute_result"
    }
   ],
   "source": [
    "##Accuracy Matrix lbfgs\n",
    "garnett_matrix_lbfgs = confusion_matrix(y_garnett_test, y_garnett_pred_lbfgs)\n",
    "garnett_matrix_lbfgs"
   ]
  },
  {
   "cell_type": "code",
   "execution_count": 59,
   "metadata": {},
   "outputs": [
    {
     "data": {
      "text/plain": [
       "0.31730569380885043"
      ]
     },
     "execution_count": 59,
     "metadata": {},
     "output_type": "execute_result"
    }
   ],
   "source": [
    "# Percision lbfgs\n",
    "from sklearn.metrics import precision_score, recall_score\n",
    "precision_score(y_garnett_test, y_garnett_pred_lbfgs, average='macro')"
   ]
  },
  {
   "cell_type": "code",
   "execution_count": 60,
   "metadata": {},
   "outputs": [
    {
     "data": {
      "text/plain": [
       "0.3330518707853963"
      ]
     },
     "execution_count": 60,
     "metadata": {},
     "output_type": "execute_result"
    }
   ],
   "source": [
    "#Recall lbfgs\n",
    "recall_score(y_garnett_test, y_garnett_pred_lbfgs, average='macro')"
   ]
  },
  {
   "cell_type": "code",
   "execution_count": 63,
   "metadata": {},
   "outputs": [
    {
     "data": {
      "text/plain": [
       "<matplotlib.image.AxesImage at 0x22e38086a30>"
      ]
     },
     "execution_count": 63,
     "metadata": {},
     "output_type": "execute_result"
    },
    {
     "data": {
      "image/png": "[encoded data removed]",
      "text/plain": [
       "<Figure size 432x288 with 1 Axes>"
      ]
     },
     "metadata": {
      "needs_background": "light"
     },
     "output_type": "display_data"
    }
   ],
   "source": [
    "# 22. Use the classifier that worked from the above point to predict the three variables you defined in point 7 above. Note the results in your written response and compare against the actual results\n",
    "\n",
    "## Lbfgs Solver\n",
    "LR_clf_garnett_lbfgs.predict([some_digit1,some_digit2,some_digit3, X_garnett_test[604]])\n",
    "\n",
    "\n",
    "plt.imshow(X_garnett_test[604].reshape(28,28))\n"
   ]
  }
 ],
 "metadata": {
  "kernelspec": {
   "display_name": "base",
   "language": "python",
   "name": "python3"
  },
  "language_info": {
   "codemirror_mode": {
    "name": "ipython",
    "version": 3
   },
   "file_extension": ".py",
   "mimetype": "text/x-python",
   "name": "python",
   "nbconvert_exporter": "python",
   "pygments_lexer": "ipython3",
   "version": "3.8.8"
  }
 },
 "nbformat": 4,
 "nbformat_minor": 2
}
