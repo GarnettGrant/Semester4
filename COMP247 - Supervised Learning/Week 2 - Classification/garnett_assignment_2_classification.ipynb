{
 "cells": [
  {
   "cell_type": "markdown",
   "metadata": {},
   "source": [
    "<h3>Lab Assignment 2 - Classification</h3>\n",
    "<h4>Garnett Grant</h4>\n",
    "<h4>301188923</h4>"
   ]
  },
  {
   "cell_type": "code",
   "execution_count": null,
   "metadata": {},
   "outputs": [],
   "source": [
    "## Pre-requisite to carrying out the assignment:\n",
    "## 1. From Sklearn load the MINST dataset, using fetch_openml.\n",
    "from sklearn.datasets import fetch_openml\n",
    "import sklearn as sl\n",
    "import numpy as np\n",
    "import matplotlib.pyplot as plt\n",
    "import matplotlib as mpl\n",
    "import pandas as pd"
   ]
  },
  {
   "cell_type": "markdown",
   "metadata": {},
   "source": [
    "## Load & check the data:"
   ]
  },
  {
   "cell_type": "code",
   "execution_count": null,
   "metadata": {},
   "outputs": [],
   "source": [
    "\n",
    "## 1. Load the MINST data into a pandas dataframe named MINST_firstname where first name is you name.\n",
    "mnist_garnett = fetch_openml('mnist_784', version=1)"
   ]
  },
  {
   "cell_type": "code",
   "execution_count": null,
   "metadata": {},
   "outputs": [],
   "source": [
    "## 2. List the keys\n",
    "mnist_garnett.keys()"
   ]
  },
  {
   "cell_type": "code",
   "execution_count": null,
   "metadata": {},
   "outputs": [],
   "source": [
    "## 3. Assign the data to a ndarray named X_firstname where firstname is your first name.\n",
    "X_garnett = mnist_garnett[\"data\"].values\n",
    "X_garnett"
   ]
  },
  {
   "cell_type": "code",
   "execution_count": null,
   "metadata": {},
   "outputs": [],
   "source": [
    "## 4. Assign the target to a variable named y_firstname where firstname is your first name.\n",
    "y_garnett = mnist_garnett[\"target\"].values.astype(int)\n",
    "y_garnett"
   ]
  },
  {
   "cell_type": "code",
   "execution_count": null,
   "metadata": {},
   "outputs": [],
   "source": [
    "##5. Print the types of X_firstname and y_firstname.\n",
    "print(type(X_garnett))\n",
    "print(type(y_garnett))"
   ]
  },
  {
   "cell_type": "code",
   "execution_count": null,
   "metadata": {},
   "outputs": [],
   "source": [
    "## 6. Print the shape of X_firstname and y_firstname.\n",
    "print(f\"X_garnett Shape: {X_garnett.shape}\")\n",
    "print(f\"y_garnett Shape: {y_garnett.shape}\")\n"
   ]
  },
  {
   "cell_type": "code",
   "execution_count": 170,
   "metadata": {},
   "outputs": [],
   "source": [
    "##7. Create three variables named as follows:\n",
    "##      a. If your first name starts by “A” through “L” name the variable some_digit1, some_digit2, some_digit3. \n",
    "##         Store in these variables the values from X_firstname indexed 7,5,0 in order.\n",
    "some_digit1, some_digit2, some_digit3 = X_garnett[7], X_garnett[5], X_garnett[0]\n",
    "\n"
   ]
  },
  {
   "cell_type": "code",
   "execution_count": 169,
   "metadata": {},
   "outputs": [],
   "source": [
    "## 8. Use imshow method to plot the values of the three variables you defined in the above point. Note the values in your Analysis report (written response).\n",
    "\n",
    "##Data must first be reshaped and then plotted\n",
    "some_digit1_image, some_digit2_image, some_digit3_image = some_digit1.reshape(28,28), some_digit2.reshape(28,28), some_digit3.reshape(28,28)"
   ]
  },
  {
   "cell_type": "code",
   "execution_count": 175,
   "metadata": {},
   "outputs": [
    {
     "data": {
      "text/plain": [
       "<matplotlib.image.AxesImage at 0x1950319ef40>"
      ]
     },
     "execution_count": 175,
     "metadata": {},
     "output_type": "execute_result"
    },
    {
     "data": {
      "image/png": "[encoded data removed]",
      "text/plain": [
       "<Figure size 432x288 with 1 Axes>"
      ]
     },
     "metadata": {
      "needs_background": "light"
     },
     "output_type": "display_data"
    }
   ],
   "source": [
    "## Image 1\n",
    "plt.imshow(some_digit1_image, cmap=mpl.cm.binary)"
   ]
  },
  {
   "cell_type": "code",
   "execution_count": null,
   "metadata": {},
   "outputs": [],
   "source": [
    "## Image 2\n",
    "plt.imshow(some_digit2_image, cmap=mpl.cm.binary)"
   ]
  },
  {
   "cell_type": "code",
   "execution_count": null,
   "metadata": {},
   "outputs": [],
   "source": [
    "## Image 3\n",
    "plt.imshow(some_digit3_image, cmap=mpl.cm.binary)"
   ]
  },
  {
   "cell_type": "markdown",
   "metadata": {},
   "source": [
    "## Pre-process the data:\n"
   ]
  },
  {
   "cell_type": "code",
   "execution_count": null,
   "metadata": {},
   "outputs": [],
   "source": [
    "## 9. Change the type of y to uint8\n",
    "y_garnett.dtype = \"uint8\""
   ]
  },
  {
   "cell_type": "code",
   "execution_count": null,
   "metadata": {},
   "outputs": [],
   "source": [
    "## 10.\tThe current target values range from 0 to 9 i.e. 10 classes. Transform the target variable to 3 classes as follows:\n",
    "##      a.\tAny digit between 0 and 3 inclusive should be assigned a target value of 0\n",
    "##      b.\tAny digit between 4 and 6 inclusive should be assigned a target value of 1\n",
    "##      c.\tAny digit between 7 and 9 inclusive should be assigned a target value of 9 \n",
    "##      (Hint: you can use numpy.where to carry out the transformation on the target.)\n",
    "# y_garnett\n",
    "y_garnett_transformed = np.where((y_garnett >= 0) & (y_garnett <= 3), 0, np.where((y_garnett >= 4) & (y_garnett <= 6), 1, 9))\n",
    "pd.DataFrame(y_garnett)\n",
    "pd.DataFrame(y_garnett_transformed)\n"
   ]
  },
  {
   "cell_type": "code",
   "execution_count": 162,
   "metadata": {},
   "outputs": [
    {
     "name": "stdout",
     "output_type": "stream",
     "text": [
      "y_garnett_transformed 0 Count: 238911\n",
      "y_garnett_transformed 1 Count: 20013\n",
      "y_garnett_transformed 9 count: 21076\n"
     ]
    }
   ],
   "source": [
    "## 11.\tPrint the frequencies of each of the three target classes and note it in your written report in addition provide a screenshot showing a bar chart.\n",
    "\n",
    "ygt_0_count = np.count_nonzero(y_garnett_transformed == 0)\n",
    "ygt_1_count = np.count_nonzero(y_garnett_transformed == 1)\n",
    "ygt_9_count = np.count_nonzero(y_garnett_transformed == 9)\n",
    "\n",
    "print(f\"y_garnett_transformed 0 Count: {ygt_0_count}\\ny_garnett_transformed 1 Count: {ygt_1_count}\\ny_garnett_transformed 9 count: {ygt_9_count}\")\n",
    "\n"
   ]
  },
  {
   "cell_type": "code",
   "execution_count": 168,
   "metadata": {},
   "outputs": [
    {
     "data": {
      "image/png": "[encoded data removed]",
      "text/plain": [
       "<Figure size 432x288 with 1 Axes>"
      ]
     },
     "metadata": {
      "needs_background": "light"
     },
     "output_type": "display_data"
    }
   ],
   "source": [
    "\n",
    "frequency = [10000,50000,100000,150000,200000,250000]\n",
    "occurrences = [ygt_0_count,ygt_1_count,ygt_9_count]\n",
    "classes = [0,1,9]\n",
    "\n",
    "# plt.bar(occurrences, frequency, color='blue')\n",
    "\n",
    "plt.bar(x=classes,height=occurrences)\n",
    "\n",
    "plt.xlabel('Class')\n",
    "plt.ylabel('Occurance')\n",
    "plt.title('Frequency of Occurance Per Class')\n",
    "# tick_positions = [0,1,2,3,4,5,6,7,8,9,10]\n",
    "# plt.xticks([0,1,2,3,4,5,6,7,8,9,10])\n",
    "# plt.yticks([20000,60000,100000,140000,180000,220000,260000])\n",
    "\n",
    "plt.show()"
   ]
  },
  {
   "cell_type": "code",
   "execution_count": 201,
   "metadata": {},
   "outputs": [
    {
     "data": {
      "text/plain": [
       "(39200000, 15680000, 50000, 20000)"
      ]
     },
     "execution_count": 201,
     "metadata": {},
     "output_type": "execute_result"
    }
   ],
   "source": [
    "## 12.\tSplit your data into train, test. Assign the first 50,000 records for training and the last 20,000\n",
    "## records for testing. (Hint you don’t need sklearn train test as the data is already randomized).\n",
    "X_garnett_train, X_garnett_test, y_garnett_train, y_garnett_test = X_garnett[:50000], X_garnett[-20000:], y_garnett_transformed[:50000],y_garnett_transformed[-20000:]\n",
    "\n",
    "X_garnett_train.size, X_garnett_test.size, y_garnett_train.size, y_garnett_test.size"
   ]
  },
  {
   "cell_type": "markdown",
   "metadata": {},
   "source": [
    "## Build Classification Models:"
   ]
  },
  {
   "cell_type": "markdown",
   "metadata": {},
   "source": [
    "<blockquote><h3>Naive Bayes</h3></blockquote>"
   ]
  },
  {
   "cell_type": "code",
   "execution_count": 213,
   "metadata": {},
   "outputs": [
    {
     "data": {
      "text/plain": [
       "ComplementNB()"
      ]
     },
     "execution_count": 213,
     "metadata": {},
     "output_type": "execute_result"
    }
   ],
   "source": [
    "##13. Train a Naive Bayes classifier using the training data. Name the classifier NB_clf_firstname.\n",
    "from sklearn.naive_bayes import GaussianNB, CategoricalNB,MultinomialNB, ComplementNB\n",
    "NB_clf_garnett = ComplementNB()\n",
    "\n",
    "NB_clf_garnett.fit(X_garnett_train,y_garnett_train)"
   ]
  },
  {
   "cell_type": "code",
   "execution_count": 214,
   "metadata": {},
   "outputs": [
    {
     "name": "stdout",
     "output_type": "stream",
     "text": [
      "All scores: [0.57334853 0.50380992 0.5424817 ]\n",
      "Average score: 53.98800520329448\n"
     ]
    }
   ],
   "source": [
    "## 14. Use 3-fold cross validation to validate the training process, and note the results in your written response.\n",
    "from sklearn.model_selection import cross_val_score\n",
    "scores = cross_val_score(NB_clf_garnett, X_garnett_train, y_garnett_train, cv=3, scoring=\"accuracy\")\n",
    "print ('All scores:', scores)\n",
    "print  ('Average score:', scores.mean() * 100)"
   ]
  },
  {
   "cell_type": "markdown",
   "metadata": {},
   "source": [
    "<blockquote><h3>Logisitic Regression</h3></blockquote>"
   ]
  },
  {
   "cell_type": "code",
   "execution_count": null,
   "metadata": {},
   "outputs": [],
   "source": [
    "#18. Train a Logistic regression classifier using the same training data. Name the classifier LR_clf_firstname. \n",
    " \n",
    "    #(Note this is a multi-class problem make sure to check all the parameters and set multi_class='multinomial').\n",
    "    \n",
    "    #Try training the classifier using two solvers first “lbfgs” then “Saga”. Set max_iter to 1200 and tolerance to 0.1 in both cases.\n",
    "    \n",
    "    #Make sure you note the results in both cases in your written response, and note the main differences in your #written response. Carryout a quick research on the difference between the “lbfgs” and “Saga” solvers and see #how this applies to the results, note that size and dimensions of the dataset. Don’t worry if one doesn’t converge your research should explain why. Note the results of your research in your analysis report.\n",
    "\n"
   ]
  },
  {
   "cell_type": "code",
   "execution_count": null,
   "metadata": {},
   "outputs": [],
   "source": [
    "#19. Use 3-fold cross validation on the training data and note the results in your written response."
   ]
  },
  {
   "cell_type": "code",
   "execution_count": null,
   "metadata": {},
   "outputs": [],
   "source": [
    "#20. Use the model to score the accuracy against the test data, note the result in your written response."
   ]
  },
  {
   "cell_type": "code",
   "execution_count": null,
   "metadata": {},
   "outputs": [],
   "source": [
    "# 21. Generate the Generate the accuracy matrix precision and recall of the model and note them in your written response."
   ]
  },
  {
   "cell_type": "code",
   "execution_count": null,
   "metadata": {},
   "outputs": [],
   "source": [
    "# 22. Use the classifier that worked from the above point to predict the three variables you defined in point 7 above. Note the results in your written response and compare against the actual results"
   ]
  }
 ],
 "metadata": {
  "kernelspec": {
   "display_name": "base",
   "language": "python",
   "name": "python3"
  },
  "language_info": {
   "codemirror_mode": {
    "name": "ipython",
    "version": 3
   },
   "file_extension": ".py",
   "mimetype": "text/x-python",
   "name": "python",
   "nbconvert_exporter": "python",
   "pygments_lexer": "ipython3",
   "version": "3.8.8"
  }
 },
 "nbformat": 4,
 "nbformat_minor": 2
}
