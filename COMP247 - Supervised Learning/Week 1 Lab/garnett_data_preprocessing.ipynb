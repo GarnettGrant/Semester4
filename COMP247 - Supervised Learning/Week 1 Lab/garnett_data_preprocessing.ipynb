{
 "cells": [
  {
   "cell_type": "markdown",
   "metadata": {},
   "source": [
    "<b>Garnett Grant</b>\n",
    "\n",
    "<b>Student Number: 301188923</b>"
   ]
  },
  {
   "cell_type": "markdown",
   "metadata": {},
   "source": [
    "## Exercise #1 Pandas"
   ]
  },
  {
   "cell_type": "markdown",
   "metadata": {},
   "source": [
    "<h4>Init from dict</h4>"
   ]
  },
  {
   "cell_type": "code",
   "execution_count": 51,
   "metadata": {},
   "outputs": [],
   "source": [
    "# Imports\n",
    "import pandas as pd\n",
    "import numpy as np\n",
    "import matplotlib.pyplot as plt"
   ]
  },
  {
   "cell_type": "code",
   "execution_count": 11,
   "metadata": {},
   "outputs": [
    {
     "data": {
      "text/plain": [
       "{}"
      ]
     },
     "execution_count": 11,
     "metadata": {},
     "output_type": "execute_result"
    }
   ],
   "source": [
    "#1.\tCreate a new dictionary, name it your firstname where firstname _fruits is your first name.\n",
    "garnett_fruits = {}\n",
    "garnett_fruits\n"
   ]
  },
  {
   "cell_type": "code",
   "execution_count": 28,
   "metadata": {},
   "outputs": [
    {
     "data": {
      "text/plain": [
       "{'Ackee': 'Yellow',\n",
       " 'Mango': 'Yellow',\n",
       " 'Pineapple': 'Yellow',\n",
       " 'Avacado': 'Green'}"
      ]
     },
     "execution_count": 28,
     "metadata": {},
     "output_type": "execute_result"
    }
   ],
   "source": [
    "#2. Add four items to the dictionary with names of your favorite fruits as keys and the respective color as values.\n",
    "garnett_fruits.update({\n",
    "    \"Ackee\":\"Yellow\",\n",
    "    \"Mango\":\"Yellow\",\n",
    "    \"Pineapple\":\"Yellow\",\n",
    "    \"Avacado\":\"Green\"\n",
    "})\n",
    "garnett_fruits"
   ]
  },
  {
   "cell_type": "code",
   "execution_count": 29,
   "metadata": {},
   "outputs": [
    {
     "data": {
      "text/plain": [
       "Ackee        Yellow\n",
       "Mango        Yellow\n",
       "Pineapple    Yellow\n",
       "Avacado       Green\n",
       "dtype: object"
      ]
     },
     "execution_count": 29,
     "metadata": {},
     "output_type": "execute_result"
    }
   ],
   "source": [
    "#3.\tConvert the dictionary into a pandas series named firstname_f.\n",
    "garnett_f = pd.Series(garnett_fruits)\n",
    "garnett_f"
   ]
  },
  {
   "cell_type": "code",
   "execution_count": 30,
   "metadata": {},
   "outputs": [
    {
     "data": {
      "text/plain": [
       "('Yellow', 'Yellow')"
      ]
     },
     "execution_count": 30,
     "metadata": {},
     "output_type": "execute_result"
    }
   ],
   "source": [
    "#4.\tPrint out the second and third items.\n",
    "garnett_f[1], garnett_f[2]"
   ]
  },
  {
   "cell_type": "code",
   "execution_count": 36,
   "metadata": {},
   "outputs": [
    {
     "data": {
      "text/plain": [
       "0    Yellow\n",
       "1    Yellow\n",
       "dtype: object"
      ]
     },
     "execution_count": 36,
     "metadata": {},
     "output_type": "execute_result"
    }
   ],
   "source": [
    "#5.\tCreate a sub series named firstname_f2 containing the second and third items.\n",
    "garnett_f2 = pd.Series([garnett_f[1], garnett_f[2]])\n",
    "garnett_f2"
   ]
  },
  {
   "cell_type": "code",
   "execution_count": 37,
   "metadata": {},
   "outputs": [
    {
     "data": {
      "text/plain": [
       "'Yellow'"
      ]
     },
     "execution_count": 37,
     "metadata": {},
     "output_type": "execute_result"
    }
   ],
   "source": [
    "# 6. Print out from the sub series the last item using iloc.\n",
    "garnett_f2.iloc[-1]"
   ]
  },
  {
   "cell_type": "markdown",
   "metadata": {},
   "source": [
    "<h4>Handling Time</h4>"
   ]
  },
  {
   "cell_type": "code",
   "execution_count": 39,
   "metadata": {},
   "outputs": [],
   "source": [
    "# 1. Create a list containing four  rainfall amounts  of values 10, 23,24,30 name the list firstname_amounts.\n",
    "garnett_amounts = [10,23,24,30]"
   ]
  },
  {
   "cell_type": "code",
   "execution_count": 38,
   "metadata": {},
   "outputs": [
    {
     "data": {
      "text/plain": [
       "DatetimeIndex(['2024-01-27 11:00:00', '2024-01-27 12:00:00',\n",
       "               '2024-01-27 13:00:00', '2024-01-27 14:00:00'],\n",
       "              dtype='datetime64[ns]', freq='H')"
      ]
     },
     "execution_count": 38,
     "metadata": {},
     "output_type": "execute_result"
    }
   ],
   "source": [
    "#2.\tUsing pandas create a date_range for todays date/time (you can set any time) with four time intervals.\n",
    "dates = pd.date_range('2024/01/27 11:00am', periods=4, freq='H')\n",
    "dates"
   ]
  },
  {
   "cell_type": "code",
   "execution_count": 53,
   "metadata": {},
   "outputs": [
    {
     "data": {
      "text/plain": [
       "2024-01-27 11:00:00    10\n",
       "2024-01-27 12:00:00    23\n",
       "2024-01-27 13:00:00    24\n",
       "2024-01-27 14:00:00    30\n",
       "Freq: H, dtype: int64"
      ]
     },
     "execution_count": 53,
     "metadata": {},
     "output_type": "execute_result"
    }
   ],
   "source": [
    "#3.\tCreate a series that combines both the list and date range name it firstname_rainfallamounts_today.\n",
    "garnett_rainfall_amounts_today = pd.Series(garnett_amounts, dates)\n",
    "garnett_rainfall_amounts_today"
   ]
  },
  {
   "cell_type": "code",
   "execution_count": 54,
   "metadata": {},
   "outputs": [
    {
     "data": {
      "image/png": "[encoded data removed]",
      "text/plain": [
       "<Figure size 432x288 with 1 Axes>"
      ]
     },
     "metadata": {
      "needs_background": "light"
     },
     "output_type": "display_data"
    }
   ],
   "source": [
    "#4.\tPlot as bar chart.\n",
    "garnett_rainfall_amounts_today.plot(kind=\"bar\")\n",
    "plt.show()"
   ]
  },
  {
   "cell_type": "markdown",
   "metadata": {},
   "source": [
    "<h4>Pandas Multi-Indexing</h4>\n",
    "<blockquote>Make a copy of the dataframe d5 and name it fristname_d5, carryout the following:\n",
    "</blockquote>"
   ]
  },
  {
   "cell_type": "code",
   "execution_count": 55,
   "metadata": {},
   "outputs": [],
   "source": [
    "d5 = pd.DataFrame(\n",
    "  {\n",
    "    (\"public\", \"birthyear\"):\n",
    "        {(\"Paris\",\"alice\"):1985, (\"Paris\",\"bob\"): 1984, (\"London\",\"charles\"): 1992},\n",
    "    (\"public\", \"hobby\"):\n",
    "        {(\"Paris\",\"alice\"):\"Biking\", (\"Paris\",\"bob\"): \"Dancing\"},\n",
    "    (\"private\", \"weight\"):\n",
    "        {(\"Paris\",\"alice\"):68, (\"Paris\",\"bob\"): 83, (\"London\",\"charles\"): 112},\n",
    "    (\"private\", \"children\"):\n",
    "        {(\"Paris\", \"alice\"):np.nan, (\"Paris\",\"bob\"): 3, (\"London\",\"charles\"): 0}\n",
    "  }\n",
    ")"
   ]
  },
  {
   "cell_type": "code",
   "execution_count": 72,
   "metadata": {},
   "outputs": [
    {
     "data": {
      "text/html": [
       "<div>\n",
       "<style scoped>\n",
       "    .dataframe tbody tr th:only-of-type {\n",
       "        vertical-align: middle;\n",
       "    }\n",
       "\n",
       "    .dataframe tbody tr th {\n",
       "        vertical-align: top;\n",
       "    }\n",
       "\n",
       "    .dataframe thead th {\n",
       "        text-align: right;\n",
       "    }\n",
       "</style>\n",
       "<table border=\"1\" class=\"dataframe\">\n",
       "  <thead>\n",
       "    <tr style=\"text-align: right;\">\n",
       "      <th></th>\n",
       "      <th></th>\n",
       "      <th>weight</th>\n",
       "      <th>children</th>\n",
       "    </tr>\n",
       "  </thead>\n",
       "  <tbody>\n",
       "    <tr>\n",
       "      <th rowspan=\"2\" valign=\"top\">Paris</th>\n",
       "      <th>alice</th>\n",
       "      <td>68</td>\n",
       "      <td>NaN</td>\n",
       "    </tr>\n",
       "    <tr>\n",
       "      <th>bob</th>\n",
       "      <td>83</td>\n",
       "      <td>3.0</td>\n",
       "    </tr>\n",
       "    <tr>\n",
       "      <th>London</th>\n",
       "      <th>charles</th>\n",
       "      <td>112</td>\n",
       "      <td>0.0</td>\n",
       "    </tr>\n",
       "  </tbody>\n",
       "</table>\n",
       "</div>"
      ],
      "text/plain": [
       "                weight  children\n",
       "Paris  alice        68       NaN\n",
       "       bob          83       3.0\n",
       "London charles     112       0.0"
      ]
     },
     "execution_count": 72,
     "metadata": {},
     "output_type": "execute_result"
    }
   ],
   "source": [
    "#1.\tprint out a dataframe containing all “private” columns\n",
    "garnett_d5 = d5.private\n",
    "garnett_d5\n"
   ]
  },
  {
   "cell_type": "code",
   "execution_count": 71,
   "metadata": {},
   "outputs": [
    {
     "data": {
      "text/html": [
       "<div>\n",
       "<style scoped>\n",
       "    .dataframe tbody tr th:only-of-type {\n",
       "        vertical-align: middle;\n",
       "    }\n",
       "\n",
       "    .dataframe tbody tr th {\n",
       "        vertical-align: top;\n",
       "    }\n",
       "\n",
       "    .dataframe thead tr th {\n",
       "        text-align: left;\n",
       "    }\n",
       "</style>\n",
       "<table border=\"1\" class=\"dataframe\">\n",
       "  <thead>\n",
       "    <tr>\n",
       "      <th></th>\n",
       "      <th colspan=\"2\" halign=\"left\">Paris</th>\n",
       "      <th>London</th>\n",
       "    </tr>\n",
       "    <tr>\n",
       "      <th></th>\n",
       "      <th>alice</th>\n",
       "      <th>bob</th>\n",
       "      <th>charles</th>\n",
       "    </tr>\n",
       "  </thead>\n",
       "  <tbody>\n",
       "    <tr>\n",
       "      <th>weight</th>\n",
       "      <td>68.0</td>\n",
       "      <td>83.0</td>\n",
       "      <td>112.0</td>\n",
       "    </tr>\n",
       "    <tr>\n",
       "      <th>children</th>\n",
       "      <td>NaN</td>\n",
       "      <td>3.0</td>\n",
       "      <td>0.0</td>\n",
       "    </tr>\n",
       "  </tbody>\n",
       "</table>\n",
       "</div>"
      ],
      "text/plain": [
       "         Paris        London\n",
       "         alice   bob charles\n",
       "weight    68.0  83.0   112.0\n",
       "children   NaN   3.0     0.0"
      ]
     },
     "execution_count": 71,
     "metadata": {},
     "output_type": "execute_result"
    }
   ],
   "source": [
    "#2.\tSwap the columns and rows (hint: look at transpose) \n",
    "garnett_d5.T"
   ]
  },
  {
   "cell_type": "markdown",
   "metadata": {},
   "source": [
    "<h4>Querying</h4>\n"
   ]
  },
  {
   "cell_type": "code",
   "execution_count": null,
   "metadata": {},
   "outputs": [],
   "source": [
    "# Use the query() to query the people dataframe you created earlier and retrieve everything related to alice.\n",
    "garnett_d5.query(\"index == 'Paris[alice]'\")\n"
   ]
  },
  {
   "cell_type": "markdown",
   "metadata": {},
   "source": [
    "<h4>Operations on Dataframes</h4>\n"
   ]
  },
  {
   "cell_type": "markdown",
   "metadata": {},
   "source": [
    "<blockquote>Add a cell to create a dataframe containing grade for four students choose the name of the students and use the names as index. \n",
    "<ul>\n",
    "<li>For columns create four columns to reflect the months April, May, June, July. </li>\n",
    "<li>Set grade items for each student for each month to be between 0 and 100.  </li>\n",
    "<li>Name the dataframe fristname_grades. </li>\n",
    "<li>Carry out the following using pandas operations:</li>\n",
    "</ul>\n",
    "</blockquote>"
   ]
  },
  {
   "cell_type": "code",
   "execution_count": 199,
   "metadata": {},
   "outputs": [
    {
     "data": {
      "text/html": [
       "<div>\n",
       "<style scoped>\n",
       "    .dataframe tbody tr th:only-of-type {\n",
       "        vertical-align: middle;\n",
       "    }\n",
       "\n",
       "    .dataframe tbody tr th {\n",
       "        vertical-align: top;\n",
       "    }\n",
       "\n",
       "    .dataframe thead th {\n",
       "        text-align: right;\n",
       "    }\n",
       "</style>\n",
       "<table border=\"1\" class=\"dataframe\">\n",
       "  <thead>\n",
       "    <tr style=\"text-align: right;\">\n",
       "      <th></th>\n",
       "      <th>April</th>\n",
       "      <th>May</th>\n",
       "      <th>June</th>\n",
       "      <th>July</th>\n",
       "    </tr>\n",
       "  </thead>\n",
       "  <tbody>\n",
       "    <tr>\n",
       "      <th>Michael</th>\n",
       "      <td>81</td>\n",
       "      <td>14</td>\n",
       "      <td>3</td>\n",
       "      <td>94</td>\n",
       "    </tr>\n",
       "    <tr>\n",
       "      <th>Raphael</th>\n",
       "      <td>35</td>\n",
       "      <td>31</td>\n",
       "      <td>28</td>\n",
       "      <td>17</td>\n",
       "    </tr>\n",
       "    <tr>\n",
       "      <th>Gabriel</th>\n",
       "      <td>94</td>\n",
       "      <td>13</td>\n",
       "      <td>86</td>\n",
       "      <td>94</td>\n",
       "    </tr>\n",
       "    <tr>\n",
       "      <th>Ezekiel</th>\n",
       "      <td>69</td>\n",
       "      <td>11</td>\n",
       "      <td>75</td>\n",
       "      <td>54</td>\n",
       "    </tr>\n",
       "  </tbody>\n",
       "</table>\n",
       "</div>"
      ],
      "text/plain": [
       "         April  May  June  July\n",
       "Michael     81   14     3    94\n",
       "Raphael     35   31    28    17\n",
       "Gabriel     94   13    86    94\n",
       "Ezekiel     69   11    75    54"
      ]
     },
     "execution_count": 199,
     "metadata": {},
     "output_type": "execute_result"
    }
   ],
   "source": [
    "import random as rdm\n",
    "rdm.seed(42)\n",
    "values = [[rdm.randint(0,100) for i in range(4)]for i in range(4)]\n",
    "student_names = [\"Michael\", \"Raphael\", \"Gabriel\", \"Ezekiel\"]\n",
    "garnett_grades = pd.DataFrame(values,columns=[\"April\",\"May\",\"June\",\"July\"],index=student_names)\n",
    "garnett_grades\n",
    "# values"
   ]
  },
  {
   "cell_type": "code",
   "execution_count": 137,
   "metadata": {},
   "outputs": [
    {
     "data": {
      "text/plain": [
       "69.75"
      ]
     },
     "execution_count": 137,
     "metadata": {},
     "output_type": "execute_result"
    }
   ],
   "source": [
    "# 1.Print out the average for the month of April\n",
    "april_mean = garnett_grades[\"April\"].mean(axis=0)\n",
    "april_mean"
   ]
  },
  {
   "cell_type": "code",
   "execution_count": 178,
   "metadata": {},
   "outputs": [
    {
     "data": {
      "text/html": [
       "<div>\n",
       "<style scoped>\n",
       "    .dataframe tbody tr th:only-of-type {\n",
       "        vertical-align: middle;\n",
       "    }\n",
       "\n",
       "    .dataframe tbody tr th {\n",
       "        vertical-align: top;\n",
       "    }\n",
       "\n",
       "    .dataframe thead th {\n",
       "        text-align: right;\n",
       "    }\n",
       "</style>\n",
       "<table border=\"1\" class=\"dataframe\">\n",
       "  <thead>\n",
       "    <tr style=\"text-align: right;\">\n",
       "      <th></th>\n",
       "      <th>April</th>\n",
       "      <th>May</th>\n",
       "      <th>June</th>\n",
       "      <th>July</th>\n",
       "    </tr>\n",
       "  </thead>\n",
       "  <tbody>\n",
       "    <tr>\n",
       "      <th>Michael</th>\n",
       "      <td>82.62</td>\n",
       "      <td>14.28</td>\n",
       "      <td>3.06</td>\n",
       "      <td>95.88</td>\n",
       "    </tr>\n",
       "    <tr>\n",
       "      <th>Raphael</th>\n",
       "      <td>35.70</td>\n",
       "      <td>31.62</td>\n",
       "      <td>28.56</td>\n",
       "      <td>17.34</td>\n",
       "    </tr>\n",
       "    <tr>\n",
       "      <th>Gabriel</th>\n",
       "      <td>95.88</td>\n",
       "      <td>13.26</td>\n",
       "      <td>87.72</td>\n",
       "      <td>95.88</td>\n",
       "    </tr>\n",
       "    <tr>\n",
       "      <th>Ezekiel</th>\n",
       "      <td>70.38</td>\n",
       "      <td>11.22</td>\n",
       "      <td>76.50</td>\n",
       "      <td>55.08</td>\n",
       "    </tr>\n",
       "  </tbody>\n",
       "</table>\n",
       "</div>"
      ],
      "text/plain": [
       "         April    May   June   July\n",
       "Michael  82.62  14.28   3.06  95.88\n",
       "Raphael  35.70  31.62  28.56  17.34\n",
       "Gabriel  95.88  13.26  87.72  95.88\n",
       "Ezekiel  70.38  11.22  76.50  55.08"
      ]
     },
     "execution_count": 178,
     "metadata": {},
     "output_type": "execute_result"
    }
   ],
   "source": [
    "#2.\tAdjust all the grades by 2% (i.e. increase)\n",
    "adjusted_garnett_grades = garnett_grades + (garnett_grades * 0.02)\n",
    "adjusted_garnett_grades "
   ]
  },
  {
   "cell_type": "code",
   "execution_count": 179,
   "metadata": {},
   "outputs": [
    {
     "data": {
      "text/html": [
       "<div>\n",
       "<style scoped>\n",
       "    .dataframe tbody tr th:only-of-type {\n",
       "        vertical-align: middle;\n",
       "    }\n",
       "\n",
       "    .dataframe tbody tr th {\n",
       "        vertical-align: top;\n",
       "    }\n",
       "\n",
       "    .dataframe thead th {\n",
       "        text-align: right;\n",
       "    }\n",
       "</style>\n",
       "<table border=\"1\" class=\"dataframe\">\n",
       "  <thead>\n",
       "    <tr style=\"text-align: right;\">\n",
       "      <th></th>\n",
       "      <th>April</th>\n",
       "      <th>May</th>\n",
       "      <th>June</th>\n",
       "      <th>July</th>\n",
       "    </tr>\n",
       "  </thead>\n",
       "  <tbody>\n",
       "  </tbody>\n",
       "</table>\n",
       "</div>"
      ],
      "text/plain": [
       "Empty DataFrame\n",
       "Columns: [April, May, June, July]\n",
       "Index: []"
      ]
     },
     "execution_count": 179,
     "metadata": {},
     "output_type": "execute_result"
    }
   ],
   "source": [
    "#3.\tPrintout the grades for the month of may that are higher than 50%\n",
    "above_50_in_may = adjusted_garnett_grades .query(\"index == May & May > 50\")\n",
    "above_50_in_may"
   ]
  },
  {
   "cell_type": "code",
   "execution_count": 200,
   "metadata": {},
   "outputs": [
    {
     "data": {
      "text/html": [
       "<div>\n",
       "<style scoped>\n",
       "    .dataframe tbody tr th:only-of-type {\n",
       "        vertical-align: middle;\n",
       "    }\n",
       "\n",
       "    .dataframe tbody tr th {\n",
       "        vertical-align: top;\n",
       "    }\n",
       "\n",
       "    .dataframe thead th {\n",
       "        text-align: right;\n",
       "    }\n",
       "</style>\n",
       "<table border=\"1\" class=\"dataframe\">\n",
       "  <thead>\n",
       "    <tr style=\"text-align: right;\">\n",
       "      <th></th>\n",
       "      <th>April</th>\n",
       "      <th>May</th>\n",
       "      <th>June</th>\n",
       "      <th>July</th>\n",
       "      <th>Average</th>\n",
       "      <th>Average Below 50%</th>\n",
       "    </tr>\n",
       "  </thead>\n",
       "  <tbody>\n",
       "    <tr>\n",
       "      <th>Michael</th>\n",
       "      <td>82.62</td>\n",
       "      <td>14.28</td>\n",
       "      <td>3.06</td>\n",
       "      <td>95.88</td>\n",
       "      <td>48.960</td>\n",
       "      <td>48.960</td>\n",
       "    </tr>\n",
       "    <tr>\n",
       "      <th>Raphael</th>\n",
       "      <td>35.70</td>\n",
       "      <td>31.62</td>\n",
       "      <td>28.56</td>\n",
       "      <td>17.34</td>\n",
       "      <td>28.305</td>\n",
       "      <td>28.305</td>\n",
       "    </tr>\n",
       "    <tr>\n",
       "      <th>Gabriel</th>\n",
       "      <td>95.88</td>\n",
       "      <td>13.26</td>\n",
       "      <td>87.72</td>\n",
       "      <td>95.88</td>\n",
       "      <td>73.185</td>\n",
       "      <td>NaN</td>\n",
       "    </tr>\n",
       "    <tr>\n",
       "      <th>Ezekiel</th>\n",
       "      <td>70.38</td>\n",
       "      <td>11.22</td>\n",
       "      <td>76.50</td>\n",
       "      <td>55.08</td>\n",
       "      <td>53.295</td>\n",
       "      <td>NaN</td>\n",
       "    </tr>\n",
       "  </tbody>\n",
       "</table>\n",
       "</div>"
      ],
      "text/plain": [
       "         April    May   June   July  Average  Average Below 50%\n",
       "Michael  82.62  14.28   3.06  95.88   48.960             48.960\n",
       "Raphael  35.70  31.62  28.56  17.34   28.305             28.305\n",
       "Gabriel  95.88  13.26  87.72  95.88   73.185                NaN\n",
       "Ezekiel  70.38  11.22  76.50  55.08   53.295                NaN"
      ]
     },
     "execution_count": 200,
     "metadata": {},
     "output_type": "execute_result"
    }
   ],
   "source": [
    "#4.\tGroup the failing students i.e. the students with average over four month below 50%\n",
    "students_avg= adjusted_garnett_grades.mean(axis=1)\n",
    "adjusted_garnett_grades['Average Below 50%'] = students_avg[students_avg < 50]\n",
    "adjusted_garnett_grades.groupby('Average')\n",
    "adjusted_garnett_grades"
   ]
  },
  {
   "cell_type": "markdown",
   "metadata": {},
   "source": [
    "## Excercise #2 Numpy"
   ]
  },
  {
   "cell_type": "code",
   "execution_count": null,
   "metadata": {},
   "outputs": [],
   "source": [
    "# Imports\n",
    "import pandas as pd\n",
    "import numpy as np\n",
    "import matplotlib.pyplot as plt"
   ]
  },
  {
   "cell_type": "markdown",
   "metadata": {},
   "source": [
    "<blockquote>np.functionname</blockquote>"
   ]
  },
  {
   "cell_type": "code",
   "execution_count": 220,
   "metadata": {},
   "outputs": [
    {
     "name": "stdout",
     "output_type": "stream",
     "text": [
      "[[  0.   0.   0.   0.   0.   0.]\n",
      " [  0.  12.  24.  36.  48.  60.]\n",
      " [  0.  24.  48.  72.  96. 120.]]\n"
     ]
    },
    {
     "data": {
      "text/plain": [
       "array([[  0,   0,   0,   0,   0,   0],\n",
       "       [  0,  12,  24,  36,  48,  60],\n",
       "       [  0,  24,  48,  72,  96, 120]], dtype=int8)"
      ]
     },
     "execution_count": 220,
     "metadata": {},
     "output_type": "execute_result"
    }
   ],
   "source": [
    "#Add a cell to create a function and name it  my_function_firstname, where firstname is your first name.\n",
    "# Let the function return an integer value stored in one byte i.e. ‘int8’ of (4x)*(3y). Where x is the number of rows and y is the number of columns.\n",
    "# Use np.fromfunction() to generate  three elements each are two by six using the  my_fuction_firstname.\n",
    "\n",
    "def my_function_garnett(X, y):\n",
    "    \"\"\"\n",
    "    Returns an integer value stored in one byte i.e. ‘int8’ of (4x)*(3y). \n",
    "    Where x is the number of rows and y is the number of columns.\n",
    "    ## Made by Garnett\n",
    "    \"\"\"\n",
    "    result = (4*X) * (3*y)\n",
    "    return np.int8(result)\n",
    "\n",
    "np.fromfunction(my_function_garnett, (3,6))"
   ]
  },
  {
   "cell_type": "markdown",
   "metadata": {},
   "source": [
    "<blockquote>Multi-dimensional arrays</blockquote>"
   ]
  },
  {
   "cell_type": "code",
   "execution_count": 221,
   "metadata": {},
   "outputs": [
    {
     "data": {
      "text/plain": [
       "array([[ 0,  1,  2,  3,  4,  5,  6,  7,  8,  9, 10, 11],\n",
       "       [12, 13, 14, 15, 16, 17, 18, 19, 20, 21, 22, 23],\n",
       "       [24, 25, 26, 27, 28, 29, 30, 31, 32, 33, 34, 35],\n",
       "       [36, 37, 38, 39, 40, 41, 42, 43, 44, 45, 46, 47]])"
      ]
     },
     "execution_count": 221,
     "metadata": {},
     "output_type": "execute_result"
    }
   ],
   "source": [
    "#2. Inspect the code under this section copy it, add a cell to extract values 16,17,18\n",
    "b = np.arange(48).reshape(4, 12)\n",
    "b"
   ]
  },
  {
   "cell_type": "code",
   "execution_count": 228,
   "metadata": {},
   "outputs": [
    {
     "data": {
      "text/plain": [
       "(16, 17, 18)"
      ]
     },
     "execution_count": 228,
     "metadata": {},
     "output_type": "execute_result"
    }
   ],
   "source": [
    "b[1,4],b[1,5],b[1,6]"
   ]
  },
  {
   "cell_type": "markdown",
   "metadata": {},
   "source": [
    "<blockquote>Iterating</blockquote>"
   ]
  },
  {
   "cell_type": "code",
   "execution_count": 229,
   "metadata": {},
   "outputs": [
    {
     "data": {
      "text/plain": [
       "array([[[ 0,  1,  2,  3],\n",
       "        [ 4,  5,  6,  7],\n",
       "        [ 8,  9, 10, 11]],\n",
       "\n",
       "       [[12, 13, 14, 15],\n",
       "        [16, 17, 18, 19],\n",
       "        [20, 21, 22, 23]]])"
      ]
     },
     "execution_count": 229,
     "metadata": {},
     "output_type": "execute_result"
    }
   ],
   "source": [
    "## Inspect the code under this section copy it, then add a cell to iterate over c and print the Boolean values for items equivalent to zeros.\n",
    "c = np.arange(24).reshape(2, 3, 4)  # A 3D array (composed of two 3x4 matrices)\n",
    "c"
   ]
  },
  {
   "cell_type": "code",
   "execution_count": 239,
   "metadata": {},
   "outputs": [
    {
     "name": "stdout",
     "output_type": "stream",
     "text": [
      "True\n",
      "False\n",
      "False\n",
      "False\n",
      "False\n",
      "False\n",
      "False\n",
      "False\n",
      "False\n",
      "False\n",
      "False\n",
      "False\n",
      "False\n",
      "False\n",
      "False\n",
      "False\n",
      "False\n",
      "False\n",
      "False\n",
      "False\n",
      "False\n",
      "False\n",
      "False\n",
      "False\n"
     ]
    }
   ],
   "source": [
    "for i in c.flat:\n",
    "    print(i == 0)"
   ]
  },
  {
   "cell_type": "markdown",
   "metadata": {},
   "source": [
    "<blockquote>VStack</blockquote>"
   ]
  },
  {
   "cell_type": "code",
   "execution_count": 244,
   "metadata": {},
   "outputs": [],
   "source": [
    "##Inspect the code under this section copy it, then add a cell to create a variable name it q5_firstname where firstname is your firstname and vertically stack q1 and q2 and print the output.\n",
    "q1 = np.full((3,4), 1.0)\n",
    "q2 = np.full((4,4), 2.0)\n",
    "q3 = np.full((3,4), 3.0)"
   ]
  },
  {
   "cell_type": "code",
   "execution_count": 245,
   "metadata": {},
   "outputs": [
    {
     "data": {
      "text/plain": [
       "array([[1., 1., 1., 1.],\n",
       "       [1., 1., 1., 1.],\n",
       "       [1., 1., 1., 1.],\n",
       "       [2., 2., 2., 2.],\n",
       "       [2., 2., 2., 2.],\n",
       "       [2., 2., 2., 2.],\n",
       "       [2., 2., 2., 2.]])"
      ]
     },
     "execution_count": 245,
     "metadata": {},
     "output_type": "execute_result"
    }
   ],
   "source": [
    "q5_garnettt= np.vstack((q1, q2))\n",
    "q5_garnettt"
   ]
  },
  {
   "cell_type": "markdown",
   "metadata": {},
   "source": [
    "</blockquote>Concatenate</blockquote>"
   ]
  },
  {
   "cell_type": "code",
   "execution_count": 246,
   "metadata": {},
   "outputs": [],
   "source": [
    "## Inspect the code under this section copy it, then add a cell to create a variable name it q8_firstname where firstname is your firstname , concatenate q1 and q3 and print the results.  "
   ]
  },
  {
   "cell_type": "code",
   "execution_count": 248,
   "metadata": {},
   "outputs": [
    {
     "data": {
      "text/plain": [
       "array([[1., 1., 1., 1.],\n",
       "       [1., 1., 1., 1.],\n",
       "       [1., 1., 1., 1.],\n",
       "       [2., 2., 2., 2.],\n",
       "       [2., 2., 2., 2.],\n",
       "       [2., 2., 2., 2.],\n",
       "       [2., 2., 2., 2.],\n",
       "       [3., 3., 3., 3.],\n",
       "       [3., 3., 3., 3.],\n",
       "       [3., 3., 3., 3.]])"
      ]
     },
     "execution_count": 248,
     "metadata": {},
     "output_type": "execute_result"
    }
   ],
   "source": [
    "q8_garnett = np.concatenate((q1, q2, q3), axis=0)\n",
    "q8_garnett"
   ]
  },
  {
   "cell_type": "markdown",
   "metadata": {},
   "source": [
    "<blockquote>Transpose</blockquote>"
   ]
  },
  {
   "cell_type": "code",
   "execution_count": 283,
   "metadata": {},
   "outputs": [
    {
     "data": {
      "text/plain": [
       "array([[[ 0,  1,  2],\n",
       "        [ 3,  4,  5]],\n",
       "\n",
       "       [[ 6,  7,  8],\n",
       "        [ 9, 10, 11]],\n",
       "\n",
       "       [[12, 13, 14],\n",
       "        [15, 16, 17]],\n",
       "\n",
       "       [[18, 19, 20],\n",
       "        [21, 22, 23]]])"
      ]
     },
     "execution_count": 283,
     "metadata": {},
     "output_type": "execute_result"
    }
   ],
   "source": [
    "# Inspect the code under this section copy it, then add a cell and create a variable named t_firstname where firstname is your name, let the variable hold any ndaray size 2 by 7 with zero values, print the result then transpose and print the result.\n",
    "t_garnett = np.arange(24).reshape(4,2,3)\n",
    "t_garnett"
   ]
  },
  {
   "cell_type": "code",
   "execution_count": 282,
   "metadata": {},
   "outputs": [
    {
     "data": {
      "text/plain": [
       "array([[[ 0,  6, 12, 18],\n",
       "        [ 3,  9, 15, 21]],\n",
       "\n",
       "       [[ 1,  7, 13, 19],\n",
       "        [ 4, 10, 16, 22]],\n",
       "\n",
       "       [[ 2,  8, 14, 20],\n",
       "        [ 5, 11, 17, 23]]])"
      ]
     },
     "execution_count": 282,
     "metadata": {},
     "output_type": "execute_result"
    }
   ],
   "source": [
    "t_garnett.transpose()"
   ]
  },
  {
   "cell_type": "markdown",
   "metadata": {},
   "source": [
    "<blockquote>Matrix multiplication</blockquote>"
   ]
  },
  {
   "cell_type": "code",
   "execution_count": 284,
   "metadata": {},
   "outputs": [],
   "source": [
    "## Inspect the code under this section copy it, \n",
    "n1 = np.arange(10).reshape(2, 5)\n",
    "n2 = np.arange(15).reshape(5,3)"
   ]
  },
  {
   "cell_type": "code",
   "execution_count": 318,
   "metadata": {},
   "outputs": [],
   "source": [
    "#then  add a cell to create 2 ndarys name the first a1 and the second a2. #Both arrays should contain numbers in the range 0 to 8, inclusive . \n",
    "a1 = np.arange(8).reshape(4,2) + 1\n",
    "a2 = np.arange(8).reshape(2,4) + 1"
   ]
  },
  {
   "cell_type": "code",
   "execution_count": 322,
   "metadata": {},
   "outputs": [
    {
     "data": {
      "text/plain": [
       "(array([[1, 2],\n",
       "        [3, 4],\n",
       "        [5, 6],\n",
       "        [7, 8]]),\n",
       " array([[1, 2, 3, 4],\n",
       "        [5, 6, 7, 8]]))"
      ]
     },
     "execution_count": 322,
     "metadata": {},
     "output_type": "execute_result"
    }
   ],
   "source": [
    "#Print a1 and a2. \n",
    "a1, a2"
   ]
  },
  {
   "cell_type": "code",
   "execution_count": 323,
   "metadata": {},
   "outputs": [
    {
     "data": {
      "text/plain": [
       "array([[1, 2, 3, 4],\n",
       "       [5, 6, 7, 8]])"
      ]
     },
     "execution_count": 323,
     "metadata": {},
     "output_type": "execute_result"
    }
   ],
   "source": [
    "#Reshape a1 to a 2 by 4. \n",
    "a1.reshape(2,4)"
   ]
  },
  {
   "cell_type": "code",
   "execution_count": 324,
   "metadata": {},
   "outputs": [
    {
     "data": {
      "text/plain": [
       "array([[1, 2],\n",
       "       [3, 4],\n",
       "       [5, 6],\n",
       "       [7, 8]])"
      ]
     },
     "execution_count": 324,
     "metadata": {},
     "output_type": "execute_result"
    }
   ],
   "source": [
    "#Reshape a2 to a 4 by 2. \n",
    "a2.reshape(4,2)"
   ]
  },
  {
   "cell_type": "code",
   "execution_count": 325,
   "metadata": {},
   "outputs": [
    {
     "data": {
      "text/plain": [
       "(array([[11, 14, 17, 20],\n",
       "        [23, 30, 37, 44],\n",
       "        [35, 46, 57, 68],\n",
       "        [47, 62, 77, 92]]),\n",
       " (4, 4))"
      ]
     },
     "execution_count": 325,
     "metadata": {},
     "output_type": "execute_result"
    }
   ],
   "source": [
    "#Create a new variable a3_firstname where firstname is your first name which holds the dot product of a1 and a2 name it a3 and print the output of a3_firstname, then the shape of a3_first name.\n",
    "a3_garnett = a1.dot(a2)\n",
    "a3_garnett, a3_garnett.shape"
   ]
  },
  {
   "cell_type": "markdown",
   "metadata": {},
   "source": [
    "<blockquote>8. Matrix inverse and pseudo-inverse</blockquote>\n"
   ]
  },
  {
   "cell_type": "code",
   "execution_count": 359,
   "metadata": {},
   "outputs": [
    {
     "data": {
      "text/plain": [
       "array([[ 3.94064967e+15, -4.50359963e+15, -2.81474977e+15,\n",
       "         3.37769972e+15],\n",
       "       [-4.12829966e+15,  4.50359963e+15,  3.37769972e+15,\n",
       "        -3.75299969e+15],\n",
       "       [-3.56534971e+15,  4.50359963e+15,  1.68884986e+15,\n",
       "        -2.62709978e+15],\n",
       "       [ 3.75299969e+15, -4.50359963e+15, -2.25179981e+15,\n",
       "         3.00239975e+15]])"
      ]
     },
     "execution_count": 359,
     "metadata": {},
     "output_type": "execute_result"
    }
   ],
   "source": [
    "## Add a cell to create a new 4 by 4 ndaray with values between 0 and 15, name the variable that holds the array your first name, print the array and the inverse of the array.\n",
    "import numpy.linalg as linalg\n",
    "\n",
    "garnett =  np.array([[1, 2, 3, 4],\n",
    "                    [5, 6, 7, 8],\n",
    "                    [9, 10, 11, 12],\n",
    "                    [13, 14, 15, 16]])\n",
    "garnett\n",
    "linalg.inv(garnett)"
   ]
  },
  {
   "cell_type": "markdown",
   "metadata": {},
   "source": [
    "<blockquote>9. Identity Matrix</blockquote>"
   ]
  },
  {
   "cell_type": "code",
   "execution_count": 360,
   "metadata": {},
   "outputs": [
    {
     "data": {
      "text/plain": [
       "array([[1., 0., 0., 0.],\n",
       "       [0., 1., 0., 0.],\n",
       "       [0., 0., 1., 0.],\n",
       "       [0., 0., 0., 1.]])"
      ]
     },
     "execution_count": 360,
     "metadata": {},
     "output_type": "execute_result"
    }
   ],
   "source": [
    "# Add a cell to create a 4 by 4 identity array\n",
    "np.eye(4)"
   ]
  },
  {
   "cell_type": "markdown",
   "metadata": {},
   "source": [
    "<blockquote>10. Determinant</blockquote>"
   ]
  },
  {
   "cell_type": "code",
   "execution_count": 365,
   "metadata": {},
   "outputs": [
    {
     "data": {
      "text/plain": [
       "1.0"
      ]
     },
     "execution_count": 365,
     "metadata": {},
     "output_type": "execute_result"
    }
   ],
   "source": [
    "## Add a cell to create a 3 by 3 matrix with values generated randomly then printout the determinant of the matrix.\n",
    "random_matrix = np.array([[1,2,3],[1,2,3],[1,2,3]])\n",
    "random_matrix_2 = np.eye(3)\n",
    "linalg.det(random_matrix_2)"
   ]
  },
  {
   "cell_type": "markdown",
   "metadata": {},
   "source": [
    "<blockquote>10. Eigenvalues and eigenvectors</blockquote>"
   ]
  },
  {
   "cell_type": "code",
   "execution_count": 370,
   "metadata": {},
   "outputs": [],
   "source": [
    "## Add a cell to create a 4 by 4 matrix with values generated randomly, assign the matrix to a variable named e_firstname. Printout the Eigenvalue and eigenvectors of the matrix.\n",
    "import random as rdm\n",
    "rdm.seed(42)\n",
    "values = [[rdm.randint(0,100) for i in range(4)]for i in range(4)]\n",
    "\n",
    "e_garnett = np.array(values)"
   ]
  },
  {
   "cell_type": "code",
   "execution_count": 372,
   "metadata": {},
   "outputs": [
    {
     "data": {
      "text/plain": [
       "(array([214.30405583,  31.6837668 ,  20.38189712, -14.36971975]),\n",
       " array([[-0.4102135 , -0.60086922,  0.60483985, -0.69274428],\n",
       "        [-0.23513323, -0.48696194, -0.66691021,  0.29140596],\n",
       "        [-0.7083411 ,  0.51371928, -0.33309236, -0.0067522 ],\n",
       "        [-0.52410889,  0.37137145, -0.28008749,  0.6596532 ]]))"
      ]
     },
     "execution_count": 372,
     "metadata": {},
     "output_type": "execute_result"
    }
   ],
   "source": [
    "eigenvalues, eigenvectors = linalg.eig(e_garnett)\n",
    "\n",
    "eigenvalues, eigenvectors "
   ]
  },
  {
   "cell_type": "markdown",
   "metadata": {},
   "source": [
    "<blockquote>Solving a System of Linear Scalar Equations</blockquote>"
   ]
  },
  {
   "cell_type": "code",
   "execution_count": 374,
   "metadata": {},
   "outputs": [
    {
     "data": {
      "text/plain": [
       "array([18., -6.,  5.])"
      ]
     },
     "execution_count": 374,
     "metadata": {},
     "output_type": "execute_result"
    }
   ],
   "source": [
    "#Add a cell to solve the following linear equations:\n",
    "#2x+4y+z =12\n",
    "#3x+8y+2z =16\n",
    "#X+2y+3z = 3\n",
    "#Check the results using the allcolse method.\n",
    "\n",
    "coeffs = np.array([[2,4,0],[3,8,2],[0,2,3]])\n",
    "depvars = np.array([12,16,3])\n",
    "solution = linalg.solve(coeffs, depvars)\n",
    "solution"
   ]
  },
  {
   "cell_type": "markdown",
   "metadata": {},
   "source": [
    "## Excercise #3 Matplotlib"
   ]
  },
  {
   "cell_type": "code",
   "execution_count": null,
   "metadata": {},
   "outputs": [],
   "source": [
    "# Imports\n",
    "import pandas as pd\n",
    "import numpy as np\n",
    "import matplotlib.pyplot as plt"
   ]
  },
  {
   "cell_type": "markdown",
   "metadata": {},
   "source": [
    "<blockquote>1, Plotting your first graph</blockquote>"
   ]
  },
  {
   "cell_type": "code",
   "execution_count": null,
   "metadata": {},
   "outputs": [],
   "source": [
    "# Add a cell at the end to generate a 2 D graph as follows:\n",
    "# x holds 1000 values between -4 and 4\n",
    "# z holds 1000 values between -5 and 5\n",
    "# y = x^2 + z^3 +6\n",
    "# plot x and y\n",
    "# name the plot(i.e.set the title) “Ploynomial_firstname” where firstname is your firstname.\n",
    "# Give names for the x and y axis.\n"
   ]
  },
  {
   "cell_type": "code",
   "execution_count": 384,
   "metadata": {},
   "outputs": [
    {
     "data": {
      "image/png": "[encoded data removed]",
      "text/plain": [
       "<Figure size 432x288 with 1 Axes>"
      ]
     },
     "metadata": {
      "needs_background": "light"
     },
     "output_type": "display_data"
    }
   ],
   "source": [
    "x = np.linspace(-4,4,1000)\n",
    "z = np.linspace(-5, 5, 1000)\n",
    "\n",
    "y = (x**2) + (z**3) + 6\n",
    "\n",
    "plt.plot(x,y)\n",
    "plt.title(\"Polynominal_Garnett\")\n",
    "plt.xlabel(\"X Axis\")\n",
    "plt.ylabel(\"Y Axis\")\n",
    "\n",
    "plt.show()"
   ]
  },
  {
   "cell_type": "markdown",
   "metadata": {},
   "source": [
    "<blockquote>2. Subplots</blockquote>"
   ]
  },
  {
   "cell_type": "code",
   "execution_count": null,
   "metadata": {},
   "outputs": [],
   "source": [
    "# # Add a cell at the end to generate a plot using subplot2grid with the following characteristics:\n",
    "# A 4 by 4 grid."
   ]
  },
  {
   "cell_type": "code",
   "execution_count": 412,
   "metadata": {},
   "outputs": [
    {
     "data": {
      "image/png": "[encoded data removed]",
      "text/plain": [
       "<Figure size 432x288 with 6 Axes>"
      ]
     },
     "metadata": {
      "needs_background": "light"
     },
     "output_type": "display_data"
    }
   ],
   "source": [
    "# On the first row plot the function x^2 in a dashed green line.\n",
    "plt.subplot2grid((4,4), (0, 0), rowspan=1, colspan=4)\n",
    "plt.plot(x, x**2,\"g--\")\n",
    "\n",
    "# On the second-row plot two functions, the first function x^3 in yellow color and the second function x^4 spanning three columns in red color.\n",
    "plt.subplot2grid((4,4), (1, 0))\n",
    "plt.plot(x, x**3, 'y-')\n",
    "\n",
    "plt.subplot2grid((4,4), (1, 1), colspan=3)\n",
    "plt.plot(x, x**4, 'r-')\n",
    "\n",
    "\n",
    "# On the third-row plot two functions the first X^6 in a dashed blue color and the second is X=x in magna (pink) color.\n",
    "plt.subplot2grid((4,4), (2, 0), colspan=3)\n",
    "plt.plot(x, x**6, 'b--')\n",
    "\n",
    "plt.subplot2grid((4,4), (2, 3), colspan=1)\n",
    "plt.plot(x, x,'m-')\n",
    "\n",
    "# On the fourth row plot one function^7 spanning all columns in dotted red.\n",
    "plt.subplot2grid((4,4), (3, 0), colspan=4)\n",
    "plt.plot(x, x**7,'r:')\n",
    "\n",
    "# Show Plot of Subplot \n",
    "plt.show()"
   ]
  },
  {
   "cell_type": "markdown",
   "metadata": {},
   "source": [
    "<blockquote>Drawing text</blockquote>"
   ]
  },
  {
   "cell_type": "code",
   "execution_count": 419,
   "metadata": {},
   "outputs": [
    {
     "data": {
      "image/png": "[encoded data removed]",
      "text/plain": [
       "<Figure size 432x288 with 1 Axes>"
      ]
     },
     "metadata": {
      "needs_background": "light"
     },
     "output_type": "display_data"
    }
   ],
   "source": [
    "## On the first graph showing the beautiful point add a new point name new point _firstname and display the coordinates\n",
    "\n",
    "x = np.linspace(-1.5, 1.5, 30)\n",
    "px = 0.8\n",
    "py = px**2\n",
    "\n",
    "plt.plot(x, x**2, \"b-\", px, py, \"ro\")\n",
    "\n",
    "plt.text(0, 1.5, \"Square function\\n$y = x^2$\", fontsize=20, color='blue', horizontalalignment=\"center\")\n",
    "\n",
    "plt.text(px - 0.08, py, \"Beautiful point\", ha=\"right\", weight=\"heavy\")\n",
    "plt.text(px, py, \"x = %0.2f\\ny = %0.2f\"%(px, py), rotation=50, color='gray')\n",
    "\n",
    "#New Point_Garnett\n",
    "px2 = 1.20\n",
    "py2 = px2**2\n",
    "\n",
    "plt.plot(x, x**2, \"b-\", px2, py2, \"ro\")\n",
    "\n",
    "plt.text(px2 - 0.08, py2, \"New Point_Garnett\", ha=\"right\", weight=\"heavy\")\n",
    "plt.text(px2, py2, \"x = %0.2f\\ny = %0.2f\"%(px2, py2), rotation=50, color='gray')\n",
    "\n",
    "plt.show()"
   ]
  },
  {
   "cell_type": "markdown",
   "metadata": {},
   "source": [
    "<blockquote>4. Scatter</blockquote>"
   ]
  },
  {
   "cell_type": "code",
   "execution_count": 439,
   "metadata": {},
   "outputs": [
    {
     "data": {
      "image/png": "[encoded data removed]",
      "text/plain": [
       "<Figure size 432x288 with 1 Axes>"
      ]
     },
     "metadata": {
      "needs_background": "light"
     },
     "output_type": "display_data"
    }
   ],
   "source": [
    "## Add a cell to generate a scatter plot of x and y where each contains 300 numbers generated randomly between 3 and 100. Set the scale, alpha and colors as you see suitable\n",
    "\n",
    "from numpy.random import rand\n",
    "x = rand(3, 100)\n",
    "y = rand(3, 100)\n",
    "scale = rand(3, 100)\n",
    "scale = 300 * scale ** 5\n",
    "plt.scatter(x, y, s=scale, alpha=0.3, color=\"red\")\n",
    "plt.show()"
   ]
  }
 ],
 "metadata": {
  "kernelspec": {
   "display_name": "base",
   "language": "python",
   "name": "python3"
  },
  "language_info": {
   "codemirror_mode": {
    "name": "ipython",
    "version": 3
   },
   "file_extension": ".py",
   "mimetype": "text/x-python",
   "name": "python",
   "nbconvert_exporter": "python",
   "pygments_lexer": "ipython3",
   "version": "3.8.8"
  }
 },
 "nbformat": 4,
 "nbformat_minor": 2
}
