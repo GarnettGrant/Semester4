{
 "cells": [
  {
   "cell_type": "markdown",
   "metadata": {},
   "source": [
    "## Pizza Class\n",
    "\n",
    " <blockquote style=\"padding-top:20px;\">Name: Garnett Grant</blockquote>\n",
    " <blockquote>Student Number: 301188923</blockquote>\n",
    " <blockquote style=\"padding-bottom:20px;\">Date: Jan 27th, 2023</blockquote>\n",
    " "
   ]
  },
  {
   "cell_type": "markdown",
   "metadata": {},
   "source": [
    "## Class:\n"
   ]
  },
  {
   "cell_type": "code",
   "execution_count": 45,
   "metadata": {},
   "outputs": [],
   "source": [
    "class Pizza():\n",
    "\n",
    "    ## Class Attributes:\n",
    "\n",
    "    # 1. Class level collection to contain pizza sizes\n",
    "    sizes = [\"small\",\"medium\",\"large\",\"x-large\"]\n",
    "\n",
    "    #2. Class level collection containing prices for each valid size\n",
    "    pizza_prices = {\"small\":6.94,\"medium\":8.49,\"large\":10.49,\"x-large\":13.49}\n",
    "\n",
    "\n",
    "    ## Constructor\n",
    "    def __init__(self,size=\"medium\",toppings= [\"cheese\"]) -> None:\n",
    "\n",
    "        ## Instance Attributes: \n",
    "\n",
    "        # 1. / #9. Pizza size \n",
    "        self.__size = size\n",
    "        \n",
    "        ## 2. / #10. Pizza Toppings \n",
    "        self.__toppings = toppings\n",
    "\n",
    "\n",
    "\n",
    "    ## Instance Properties:\n",
    "\n",
    "    # 6.Pizza Price Property\n",
    "    @property\n",
    "    def pizza_price(self):\n",
    "        return Pizza.pizza_prices[self.__size] + (len(self.__toppings) * 0.50)\n",
    "    \n",
    "    # Pizza Size Property   \n",
    "    @property\n",
    "    def size(self):\n",
    "        return self.__size\n",
    "\n",
    "    # Pizza Size Setter\n",
    "    @size.setter\n",
    "    def size(self,value):\n",
    "        # Size is verified:\n",
    "        if value in Pizza.sizes:\n",
    "            self.__size = value\n",
    "        else:\n",
    "            raise ValueError(f\"ERROR: {value} is not a valid size for a pizza\")\n",
    "\n",
    "    ## Instance Methods:\n",
    "\n",
    "    # 4. Method to add toppings to pizza\n",
    "\n",
    "    def add(self,toppings):\n",
    "        self.__toppings.extend(toppings)\n",
    "\n",
    "    # 5. __str__ method to return a formatted string of the pizza\n",
    "    def __str__(self) -> str:\n",
    "        return (f\"{self.__size} pizza with {self.__toppings} for ${self.pizza_price}\")\n",
    "\n",
    "        \n",
    "       \n",
    "\n"
   ]
  },
  {
   "cell_type": "markdown",
   "metadata": {},
   "source": [
    "## Test Harness:"
   ]
  },
  {
   "cell_type": "code",
   "execution_count": 46,
   "metadata": {},
   "outputs": [
    {
     "name": "stdout",
     "output_type": "stream",
     "text": [
      "Creating a default pizza\n",
      "medium pizza with ['cheese'] for $8.99\n",
      "\n",
      "Adding topping: ['cheese', 'olive']\n",
      "medium pizza with ['cheese', 'cheese', 'olive'] for $9.99\n",
      "\n",
      "Creating a new pizza\n",
      "large pizza with ['cheese', 'pepper'] for $11.49\n",
      "\n",
      "Adding topping: ['pineapple', 'mushroom']\n",
      "large pizza with ['cheese', 'pepper', 'pineapple', 'mushroom'] for $12.49\n",
      "\n",
      "Changing order size to x-large\n",
      "x-large pizza with ['cheese', 'pepper', 'pineapple', 'mushroom'] for $15.49\n",
      "\n",
      "Changing order size to gigantic\n",
      "ERROR: gigantic is not a valid size for a pizza\n"
     ]
    }
   ],
   "source": [
    "print(f'Creating a default pizza')\n",
    "p = Pizza()\n",
    "print(p)\n",
    "\n",
    "toppings = 'cheese olive'.split()\n",
    "print(f'\\nAdding topping: {toppings}')\n",
    "p.add(toppings=toppings)\n",
    "print(p)\n",
    "\n",
    "print(f'\\nCreating a new pizza')\n",
    "p = Pizza('large', 'cheese pepper'.split())\n",
    "print(p)\n",
    "\n",
    "toppings = ['pineapple', 'mushroom']\n",
    "print(f'\\nAdding topping: {toppings}')\n",
    "p.add(toppings)\n",
    "print(p)\n",
    "\n",
    "size = 'x-large'\n",
    "p.size = size\n",
    "print(f'\\nChanging order size to {size}')\n",
    "print(p)\n",
    "\n",
    "size = 'gigantic'\n",
    "print(f'\\nChanging order size to {size}')\n",
    "try:\n",
    "  p.size = size\n",
    "except ValueError as err:\n",
    "  print(err) \n"
   ]
  }
 ],
 "metadata": {
  "kernelspec": {
   "display_name": "base",
   "language": "python",
   "name": "python3"
  },
  "language_info": {
   "codemirror_mode": {
    "name": "ipython",
    "version": 3
   },
   "file_extension": ".py",
   "mimetype": "text/x-python",
   "name": "python",
   "nbconvert_exporter": "python",
   "pygments_lexer": "ipython3",
   "version": "3.8.8"
  }
 },
 "nbformat": 4,
 "nbformat_minor": 2
}
