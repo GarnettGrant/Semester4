{
 "cells": [
  {
   "cell_type": "markdown",
   "metadata": {},
   "source": [
    "## List Compression"
   ]
  },
  {
   "cell_type": "code",
   "execution_count": null,
   "metadata": {},
   "outputs": [],
   "source": [
    "# List compression\n",
    "list1 = []"
   ]
  },
  {
   "cell_type": "code",
   "execution_count": null,
   "metadata": {},
   "outputs": [],
   "source": [
    "\n",
    "# Regular Code to get even numbers in a list without manually typing them\n",
    "for x in range(0,11):\n",
    "    if x % 2 == 0:\n",
    "        list1.append(x)\n",
    "print(list1)\n"
   ]
  },
  {
   "cell_type": "code",
   "execution_count": null,
   "metadata": {},
   "outputs": [],
   "source": [
    "\n",
    "# List Compression 1\n",
    "list3 = [i for i in range(0,12,2)]\n",
    "print(list1)\n"
   ]
  },
  {
   "cell_type": "code",
   "execution_count": null,
   "metadata": {},
   "outputs": [],
   "source": [
    "\n",
    "# List Compression 2\n",
    "list3 = [x for x in range(0,11) if x % 2 == 0]\n",
    "print(list3)\n"
   ]
  },
  {
   "cell_type": "code",
   "execution_count": null,
   "metadata": {},
   "outputs": [],
   "source": [
    "\n",
    "# Create a List from 6-27, 27 inclusive\n",
    "# Which has multiples of 3 and values should be cubed 9*9*3 or 9**3\n",
    "\n",
    "list4 = [x**3 for x in range(6, 28) if x%3==0]\n",
    "#or \n",
    "list4 = [x*3*3 for x in range(6, 28) if x%3==0]\n",
    "print(list4)\n"
   ]
  },
  {
   "cell_type": "code",
   "execution_count": null,
   "metadata": {},
   "outputs": [],
   "source": [
    "\n",
    "#[(x,y)] => Create pairs but catch is that they should not be similar.... (1,2), \n",
    "x_list = [1,2,3,4]\n",
    "y_list = [2,6,1,7]\n",
    "\n",
    "# 1st Method:\n",
    "list4 = [(x,y) for x in x_list for y in y_list if x != y]\n",
    "print(list4)\n",
    "\n",
    "# 2nd Method:\n",
    "list_pair = [(x, y) for x, y in zip(x_list, y_list) if x != y]\n",
    "print(list4)"
   ]
  },
  {
   "cell_type": "markdown",
   "metadata": {},
   "source": [
    "## Set Compression\n"
   ]
  },
  {
   "cell_type": "code",
   "execution_count": 1,
   "metadata": {},
   "outputs": [],
   "source": [
    "# A set which has square of each elemnt inside this list\n",
    "\n",
    "a = [2,4,5,6,7,8,2,5,7]"
   ]
  },
  {
   "cell_type": "code",
   "execution_count": 4,
   "metadata": {},
   "outputs": [
    {
     "name": "stdout",
     "output_type": "stream",
     "text": [
      "{64, 4, 36, 16, 49, 25}\n"
     ]
    }
   ],
   "source": [
    "set1 = {x*x for x in a}\n",
    "print(set1)\n",
    "\n",
    "# Got squares but it's an Unordered Collection\n",
    "## Sets don't contain duplicates "
   ]
  },
  {
   "cell_type": "markdown",
   "metadata": {},
   "source": [
    "## Dictionary Compression\n"
   ]
  },
  {
   "cell_type": "code",
   "execution_count": 6,
   "metadata": {},
   "outputs": [
    {
     "name": "stdout",
     "output_type": "stream",
     "text": [
      "{'a': 15, 'b': 4, 'c': 6}\n"
     ]
    }
   ],
   "source": [
    "# Goal: All lowercase alphabets as keys and the same keys to be merged\n",
    "\n",
    "raw = {'a':12, 'b':4, 'A':3,'c':6}\n",
    "\n",
    "rawdict = {\n",
    "    k.lower():\n",
    "        raw.get(k.lower(),0) + raw.get(k.upper(),0)\n",
    "        \n",
    "        for k in raw.keys()\n",
    "}\n",
    "print(rawdict)"
   ]
  },
  {
   "cell_type": "markdown",
   "metadata": {},
   "source": [
    "## Scope / Nested Function\n"
   ]
  },
  {
   "cell_type": "code",
   "execution_count": 1,
   "metadata": {},
   "outputs": [],
   "source": [
    "def funcl(a): \n",
    "    print (a) \n",
    "    def func2(b): \n",
    "        c = 30 \n",
    "        return a+b+c \n",
    "    def func3(): \n",
    "        def func4(): \n",
    "            print (func2(10) ) \n",
    "            func4( ) \n",
    "            func3() \n",
    "            # func4() \n",
    "            print (func2(30)) \n",
    "            print (funcl (5)) "
   ]
  },
  {
   "cell_type": "markdown",
   "metadata": {},
   "source": [
    "## Matplotlib & Numpy\n"
   ]
  },
  {
   "cell_type": "code",
   "execution_count": 11,
   "metadata": {},
   "outputs": [],
   "source": [
    "from matplotlib import pyplot as py\n",
    "from matplotlib import numpy as np\n",
    "\n",
    "x = [1,2,3,4,5,6,7]\n",
    "y = [4,6,7,2,5,8,1]\n",
    "a = [2,3,4,5,6,7]\n",
    "b = [3,4,5,6,2,7]\n",
    "\n"
   ]
  },
  {
   "cell_type": "code",
   "execution_count": 10,
   "metadata": {},
   "outputs": [
    {
     "data": {
      "image/png": "[encoded data removed]",
      "text/plain": [
       "<Figure size 432x288 with 1 Axes>"
      ]
     },
     "metadata": {
      "needs_background": "light"
     },
     "output_type": "display_data"
    }
   ],
   "source": [
    "#Line graph\n",
    "py.scatter(x,y)\n",
    "py.plot(a,b)\n",
    "\n",
    "py.title('Title For Graph Here')\n",
    "py.xlabel('x axis')\n",
    "py.ylabel('y axis')\n",
    "py.show()"
   ]
  },
  {
   "cell_type": "code",
   "execution_count": 17,
   "metadata": {},
   "outputs": [
    {
     "name": "stdout",
     "output_type": "stream",
     "text": [
      "[0. 0. 0. 0. 0. 0. 0.]\n"
     ]
    },
    {
     "data": {
      "text/plain": [
       "(numpy.ndarray, 7, None)"
      ]
     },
     "execution_count": 17,
     "metadata": {},
     "output_type": "execute_result"
    }
   ],
   "source": [
    "# All Zeros\n",
    "z = np.zeros(7)\n",
    "\n",
    "type(z), z.size, print(z)"
   ]
  },
  {
   "cell_type": "code",
   "execution_count": 18,
   "metadata": {},
   "outputs": [
    {
     "name": "stdout",
     "output_type": "stream",
     "text": [
      "[1. 1. 1. 1. 1. 1. 1.]\n"
     ]
    },
    {
     "data": {
      "text/plain": [
       "(numpy.ndarray, 7, None)"
      ]
     },
     "execution_count": 18,
     "metadata": {},
     "output_type": "execute_result"
    }
   ],
   "source": [
    "## Ones\n",
    "z1 = np.ones(7)\n",
    "type(z1), z1.size, print(z1)"
   ]
  },
  {
   "cell_type": "code",
   "execution_count": 22,
   "metadata": {},
   "outputs": [
    {
     "name": "stdout",
     "output_type": "stream",
     "text": [
      "[ 2.          4.16666667  6.33333333  8.5        10.66666667 12.83333333\n",
      " 15.        ]\n"
     ]
    },
    {
     "data": {
      "text/plain": [
       "(numpy.ndarray, (7,), None)"
      ]
     },
     "execution_count": 22,
     "metadata": {},
     "output_type": "execute_result"
    }
   ],
   "source": [
    "#Linespace 5 Elements 2-15 ...Evenly spaced.. not randomly added\n",
    "z2 = np.linspace(2,15,7)\n",
    "type(z2), z2.shape, print(z2)"
   ]
  },
  {
   "cell_type": "code",
   "execution_count": 23,
   "metadata": {},
   "outputs": [
    {
     "data": {
      "text/plain": [
       "59.5"
      ]
     },
     "execution_count": 23,
     "metadata": {},
     "output_type": "execute_result"
    }
   ],
   "source": [
    "# Dot Product\n",
    "z1@z2"
   ]
  },
  {
   "cell_type": "markdown",
   "metadata": {},
   "source": [
    "## Multithreading"
   ]
  },
  {
   "cell_type": "markdown",
   "metadata": {},
   "source": [
    "Parallelism = \n",
    "- Doing 2 things simaltaneouesly \n",
    "\n",
    "Concurrency = \n",
    "- Appears that we are doing things at the same time\n",
    "\n",
    "#Threading => \n",
    "- Executing a sequence of instructions by a scheduler\n",
    "\n",
    "Runnable => \n",
    "- Thread create not running\n",
    "\n",
    "Running => \n",
    "- Thread is executed => Next state as dead, not running\n"
   ]
  },
  {
   "cell_type": "code",
   "execution_count": 24,
   "metadata": {},
   "outputs": [],
   "source": [
    "## Parallelism = Doing 2 things simaltaneouesly \n",
    "## Concurrency = Appears that we are doing things at the same time\n",
    "\n",
    "#Threading => Executing a sequence of instructions by a scheduler\n",
    "\n",
    "## Runnable => Thread create not running\n",
    "\n",
    "# Running => Thread is executed => Next state as dead, not running\n",
    "\n"
   ]
  },
  {
   "cell_type": "code",
   "execution_count": 25,
   "metadata": {},
   "outputs": [],
   "source": [
    "import threading\n",
    "import time\n",
    "\n",
    "done = False\n",
    "\n",
    "def worker():\n",
    "    counter = 0\n",
    "    while not done:\n",
    "        # Time module just to slow down so we can see\n",
    "        time.sleep(1)\n",
    "        counter+=1\n",
    "        print(counter)\n",
    "\n",
    "#Set Targets\n",
    "#Created a Thread\n",
    "t = threading.Thread(target=worker, daemon=True)\n",
    "t.start()\n",
    "\n",
    "#If Thread 1 is dependent on Thread 2 and it terminates, then Thread 1 will get terminated as soon as thread 2 has terminated so we don't enter into deadlock\n",
    "\n",
    "#Process the Thread\n",
    "input(\"press enter to exit\")\n",
    "done = True"
   ]
  },
  {
   "cell_type": "code",
   "execution_count": null,
   "metadata": {},
   "outputs": [],
   "source": []
  },
  {
   "cell_type": "code",
   "execution_count": null,
   "metadata": {},
   "outputs": [],
   "source": []
  }
 ],
 "metadata": {
  "kernelspec": {
   "display_name": "base",
   "language": "python",
   "name": "python3"
  },
  "language_info": {
   "codemirror_mode": {
    "name": "ipython",
    "version": 3
   },
   "file_extension": ".py",
   "mimetype": "text/x-python",
   "name": "python",
   "nbconvert_exporter": "python",
   "pygments_lexer": "ipython3",
   "version": "3.8.8"
  }
 },
 "nbformat": 4,
 "nbformat_minor": 2
}
