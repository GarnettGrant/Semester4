{
 "cells": [
  {
   "cell_type": "markdown",
   "metadata": {},
   "source": [
    "## TKINTER"
   ]
  },
  {
   "cell_type": "code",
   "execution_count": 5,
   "metadata": {},
   "outputs": [],
   "source": []
  },
  {
   "cell_type": "code",
   "execution_count": 1,
   "metadata": {},
   "outputs": [],
   "source": [
    "## Import \n",
    "from tkinter import *\n",
    "## Root Widget to be created \n",
    "root = Tk()\n",
    "\n",
    "def printGreeting():\n",
    "    greeting=f\"Good Evening {entrywidget.get()} \\nOption Selected: {str(var1.get())}\"\n",
    "    Label(root, text=f\"Greeting:\\n{greeting}\", pady=20).pack()\n",
    "\n",
    "from tkinter import messagebox\n",
    "def showPopUp():\n",
    "    messagebox.showinfo(\"Dun Dun Dunnnn\", \"This is just a test, you clicked a button, good job!\")\n",
    "\n",
    "# Create a Label\n",
    "hellolabel = Label(root, text=\"Hello GUI :)\",bd=5,padx=20,pady=20,fg=\"green\")\n",
    "\n",
    "# secondlabel = Label(root, text=\"This is my second label\", bd=5,padx=20,pady=20,relief=SUNKEN).grid(row=5,column=10)\n",
    "secondlabel = Label(root, text=\"This is my second label\", bd=5,padx=20,pady=20,relief=SUNKEN).pack()\n",
    "\n",
    "# Entername Label\n",
    "enterName = Label(root, text=\"Enter your name: \", bd=5, padx=20)\n",
    "\n",
    "#button\n",
    "firstButton = Button(root, text=\"Click Me!\", bd=10, fg=\"red\", command=printGreeting)\n",
    "secondButton = Button(root, text=\"Mystery Button\", bd=10, fg=\"yellow\", bg=\"black\", command=showPopUp)\n",
    "\n",
    "##Inserting Data\n",
    "entrywidget = Entry(root, width=50)\n",
    "entrywidget.insert(0,\"\")\n",
    "\n",
    "#Radio Buttons\n",
    "var1 = IntVar()\n",
    "radio1 = Radiobutton(root, text=\"Option1\",variable=var1, value=1)\n",
    "radio2 = Radiobutton(root, text=\"Option1\",variable=var1, value=2)\n",
    "#Set Default\n",
    "var1.set(2)\n",
    "\n",
    "#Checkboxes\n",
    "var2 = StringVar()\n",
    "check1 = Checkbutton(root, text=\"Check This Box\", variable=var2, onvalue=\"Red\", offvalue=\"Not Red\")\n",
    "check1.deselect()\n",
    "\n",
    "#MessageBoxes\n",
    "#showinfo, showerror, showwarning, askyesno, askquestion, askokcancel\n",
    "# from tkinter import messagebox\n",
    "# def showPopUp():\n",
    "#     messagebox.showinfo(\"Dun Dun Dunnnn\", \"This is just a test, you clicked a button, good job!\")\n",
    "\n",
    "\n",
    "#Shove the wiedgets in the main menu\n",
    "# hellolabel.grid(row=0,column=0)\n",
    "hellolabel.pack()\n",
    "enterName.pack()\n",
    "entrywidget.pack()\n",
    "radio1.pack()\n",
    "radio2.pack()\n",
    "check1.pack()\n",
    "firstButton.pack()\n",
    "secondButton.pack()\n",
    "#Create an event loop\n",
    "root.mainloop()"
   ]
  },
  {
   "cell_type": "code",
   "execution_count": null,
   "metadata": {},
   "outputs": [],
   "source": []
  }
 ],
 "metadata": {
  "kernelspec": {
   "display_name": "base",
   "language": "python",
   "name": "python3"
  },
  "language_info": {
   "codemirror_mode": {
    "name": "ipython",
    "version": 3
   },
   "file_extension": ".py",
   "mimetype": "text/x-python",
   "name": "python",
   "nbconvert_exporter": "python",
   "pygments_lexer": "ipython3",
   "version": "3.8.8"
  }
 },
 "nbformat": 4,
 "nbformat_minor": 2
}
